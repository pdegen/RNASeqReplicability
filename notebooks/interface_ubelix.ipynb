{
 "cells": [
  {
   "cell_type": "markdown",
   "id": "ce994fa7-ad3c-4162-b2ff-ce5d4d95fa3b",
   "metadata": {},
   "source": [
    "Notebook to send jobs to the Ubelix HPC cluster at the University of Bern"
   ]
  },
  {
   "cell_type": "code",
   "execution_count": null,
   "id": "45066980-1b1d-4b28-8217-caffb9ddfd19",
   "metadata": {},
   "outputs": [],
   "source": [
    "import sys\n",
    "import os\n",
    "import logging\n",
    "import glob\n",
    "import pickle\n",
    "import json\n",
    "from pathlib import Path\n",
    "import rpy2.robjects as ro\n",
    "import numpy as np\n",
    "import pandas as pd\n",
    "import matplotlib.pyplot as plt\n",
    "import seaborn as sns; sns.set()\n",
    "\n",
    "%load_ext rpy2.ipython\n",
    "\n",
    "logging.basicConfig(filename='example.log', \n",
    "                    encoding='utf-8', level=logging.INFO)\n",
    "logger = logging.getLogger()\n",
    "logger.setLevel(logging.INFO)\n",
    "logger.addHandler(logging.StreamHandler(stream=sys.stdout))\n",
    "\n",
    "datapath = Path(\"../data\")\n",
    "#datapath = Path(\"/storage/homefs/pd21v747/datanew\")\n",
    "\n",
    "modpath = Path(\"../scripts\")\n",
    "sys.path.append(os.path.relpath(modpath))\n",
    "\n",
    "#from misc import Timer, pickler, open_table"
   ]
  },
  {
   "cell_type": "code",
   "execution_count": null,
   "id": "9aa06e64-3add-4b07-ad2b-4cf6a6eaad84",
   "metadata": {},
   "outputs": [],
   "source": [
    "sites = {\"liver\": \"LIHC\"}\n",
    "         # \"thyroid\": \"THCA\",\n",
    "         # \"lung\": \"LUAD\",\n",
    "         # \"kidney\": \"KIRC\",\n",
    "         # \"colorectal\": \"COAD\",\n",
    "         # \"breast\": \"BRCA\",\n",
    "         # \"prostate\": \"PRAD\"}\n",
    "\n",
    "datasets = {sites[s]: {} for s in sites}\n",
    "\n",
    "for s in sites:\n",
    "    f = Path(f\"{datapath}/{s}/{sites[s]}/{sites[s]}.csv\")\n",
    "    df = pd.read_csv(f, index_col=0)\n",
    "    datasets[sites[s]][\"genes\"] = len(df)\n",
    "    datasets[sites[s]][\"site\"] = s\n",
    "    datasets[sites[s]][\"datapath\"] = f\n",
    "    datasets[sites[s]][\"outpath\"] = f.parent\n",
    "    datasets[sites[s]][\"patients\"] = len(df.columns)//2\n",
    "    print(f\"{s:<10}\", datasets[sites[s]][\"genes\"], datasets[sites[s]][\"patients\"])\n",
    "    \n",
    "# Pretty names\n",
    "cleanout = {\"jk\": \"ReBoost\",\n",
    "            \"pcah\": \"rPCA\",\n",
    "            \"none\": \"None\"}\n",
    "cleandea = {\"edger\": \"edgeR QLF\",\n",
    "            \"edgerlrt\": \"edgeR LRT\",\n",
    "            \"deseq2\": \"DESeq2\"}"
   ]
  },
  {
   "cell_type": "markdown",
   "id": "f9b4ca6b-3492-4182-8d33-cb32f8a3d942",
   "metadata": {},
   "source": [
    "# Differential expression analysis"
   ]
  },
  {
   "cell_type": "markdown",
   "id": "34570dc0-6cb6-41f1-9fff-12cf46bd124d",
   "metadata": {},
   "source": [
    "## Define ground truth\n",
    "\n",
    "Define ground truth DEGs for a given FDR, logFC cutoff as the intersection of DEGs from all three DEA tests (Wald, LRT, QLF)"
   ]
  },
  {
   "cell_type": "code",
   "execution_count": null,
   "id": "68d9bb32-f841-4f65-be03-2343c4a3d3b8",
   "metadata": {},
   "outputs": [],
   "source": [
    "from DEA import run_dea_on_full_data\n",
    "from process import find_ground_truth\n",
    "\n",
    "DEAs = [\"edgerlrt\", \"edgerqlf\", \"deseq2\"]\n",
    "FDRs = [0.1,0.05,0.01,0.001]\n",
    "logFCs = [0, 1] # formal lfc threhsold in edger or deseq2\n",
    "logFCs_post = [0,0.5,1,1.5,2] # post hoc thresholds\n",
    "\n",
    "run_dea_on_full_data(datasets, DEAs, overwrite = False, lfcs = logFCs)\n",
    "\n",
    "datasets = find_ground_truth(datasets, DEAs, FDRs, logFCs_post, lfc_test = 0)\n",
    "datasets = find_ground_truth(datasets, DEAs, FDRs, [1], lfc_test = 1)"
   ]
  },
  {
   "cell_type": "markdown",
   "id": "9abd85c8-d1f3-4bd0-96bd-5361cbc77d7a",
   "metadata": {},
   "source": [
    "## Send batch jobs for selected data set"
   ]
  },
  {
   "cell_type": "code",
   "execution_count": null,
   "id": "8b9fa9cf-ee8f-4e5b-b287-d707de00dd0e",
   "metadata": {},
   "outputs": [],
   "source": [
    "selected_data = \"LIHC\"\n",
    "outpath = datasets[selected_data][\"outpath\"]\n",
    "outname = outpath.name\n",
    "outpath, outname"
   ]
  },
  {
   "cell_type": "code",
   "execution_count": null,
   "id": "4cbd4af2-f0d5-4a7b-922c-e8b0f1255529",
   "metadata": {},
   "outputs": [],
   "source": [
    "from ubelix import run_multi_batch\n",
    "\n",
    "script_path = Path(\"../scripts/send_batch.sh\")\n",
    "DEA_methods = [\"edgerqlf\"]#,\"edgerlrt\", \"deseq2\"] # finish edgerqlf jobs before sending other jobs\n",
    "outlier_methods = [\"none\", \"pcah\", \"jk\"] # only use none for p2\n",
    "all_N = [3]#,4,5,6,7,8,9,10,12,15]\n",
    "n_cohorts = 2#100\n",
    "\n",
    "assert outname in str(outpath)\n",
    "\n",
    "config_params_1 = {\n",
    "    \n",
    "    \"param_set\": \"p1\", # id for this set of parameters\n",
    "    \n",
    "    \"overwrite\": False, # overwrite existing tabs\n",
    "    \"data\": str(outpath) + \"/\" + outname + \".csv\",\n",
    "    \"outpath\": str(outpath),\n",
    "    \"outname\": outname,\n",
    "    \n",
    "    \"DEA_methods\": DEA_methods,\n",
    "    \"outlier_methods\": outlier_methods,\n",
    "    \n",
    "    \"outlier_kwargs\": {\n",
    "        \"none\": {},\n",
    "        \"jk\": {\n",
    "            \"FDR\": 0.01,\n",
    "            \"overwrite\": False, # overwrite existing jk tab\n",
    "            \"max_removed_frac\": 0.5, # fraction of patients; after 1st iteration, don't jackknife bottom frac patients\n",
    "            \"efficient\": True,\n",
    "            \"cols_to_keep\": [\"FDR\"],\n",
    "            \"cleanup\": True # remove individual jk tabs and iterations after merger\n",
    "        },\n",
    "        \"pcah\": {\"k\": 2}\n",
    "    },\n",
    "    \n",
    "    \"DEA_kwargs\": {\n",
    "        \"edgerqlf\": {\"filter_expr\": False, \"cols_to_keep\": [\"logFC\",\"logCPM\",\"FDR\"]},\n",
    "        \"edgerlrt\": {\"filter_expr\": False, \"cols_to_keep\": [\"logFC\",\"logCPM\",\"FDR\"], \"test\":\"lrt\"},\n",
    "        \"deseq2\": {\"cols_to_keep\": [\"logFC\",\"logCPM\",\"FDR\"]}\n",
    "    }\n",
    "    \n",
    "}\n",
    "\n",
    "# lfc = 1 threshold\n",
    "config_params_2 = {\n",
    "    \n",
    "    \"param_set\": \"p2\", # id for this set of parameters\n",
    "    \n",
    "    \"overwrite\": False, # overwrite existing tabs\n",
    "    \"data\": str(outpath) + \"/\" + outname + \".csv\",\n",
    "    \"outpath\": str(outpath),\n",
    "    \"outname\": outname,\n",
    "    \n",
    "    \"DEA_methods\": DEA_methods,\n",
    "    \"outlier_methods\": outlier_methods,\n",
    "    \n",
    "    \"outlier_kwargs\": {\n",
    "        \"none\": {},\n",
    "        \"jk\": {\n",
    "            \"FDR\": 0.01,\n",
    "            \"overwrite\": False, # overwrite existing jk tab\n",
    "            \"max_removed_frac\": 0.5, # fraction of patients; after 1st iteration, don't jackknife bottom frac patients\n",
    "            \"efficient\": True,\n",
    "            \"cols_to_keep\": [\"FDR\"],\n",
    "            \"cleanup\": True # remove individual jk tabs and iterations after merger\n",
    "        },\n",
    "        \"pcah\": {\"k\": 2}\n",
    "    },\n",
    "    \n",
    "    \"DEA_kwargs\": {\n",
    "        \"edgerqlf\": {\"filter_expr\": False, \"cols_to_keep\": [\"logFC\",\"logCPM\",\"FDR\"], \"lfc\": 1},\n",
    "        \"edgerlrt\": {\"filter_expr\": False, \"cols_to_keep\": [\"logFC\",\"logCPM\",\"FDR\"], \"test\":\"lrt\", \"lfc\": 1},\n",
    "        \"deseq2\": {\"cols_to_keep\": [\"logFC\",\"logCPM\",\"FDR\"],\"lfc\": 1}\n",
    "    }\n",
    "    \n",
    "}\n",
    "import subprocess as sp\n",
    "output = sp.getoutput('squeue -u pd21v747')\n",
    "jobs_running = output.find(\"send_bat\") > 0\n",
    "\n",
    "mode = \"send jobs\"\n",
    "#mode = \"test main terminal\"\n",
    "#mode = \"just testing\"\n",
    "do_nothing = False\n",
    "config_params = config_params_2\n",
    "\n",
    "if not jobs_running and not do_nothing:\n",
    "    run_multi_batch(config_params, all_N, n_cohorts, script_path, mode = mode)\n",
    "elif jobs_running:\n",
    "    print(\"Jobs running\")"
   ]
  },
  {
   "cell_type": "code",
   "execution_count": null,
   "id": "a18caec7-0af6-4022-80c8-b2d03ce198de",
   "metadata": {},
   "outputs": [],
   "source": [
    "!squeue -u pd21v747"
   ]
  },
  {
   "cell_type": "markdown",
   "id": "9452b65b-ce89-4a2e-89bf-7a6a4000f5bb",
   "metadata": {},
   "source": [
    "## Process jobs"
   ]
  },
  {
   "cell_type": "code",
   "execution_count": null,
   "id": "eb9b36f1-7d5d-4fe7-a047-8e006c6cfd15",
   "metadata": {},
   "outputs": [],
   "source": [
    "DEAs = [\"edgerqlf\", \"edgerlrt\", \"deseq2\"]\n",
    "outlier_methods = [\"none\", \"pcah\", \"jk\"]\n",
    "FDRs = [0.1,0.05,0.01,0.001]\n",
    "logFCs = [0, 0.5, 1, 1.5, 2]\n",
    "all_N = [3,4,5,6,7,8,9,10,12,15]\n",
    "lfc_test = 0\n",
    "param_set = \"p1\"\n",
    "\n",
    "DEAs = [\"edgerqlf\"]#\"deseq2\", \"edgerlrt\"]\n",
    "outlier_methods = [\"none\"]#, \"pcah\", \"jk\"]\n",
    "FDRs = [0.1,0.05,0.01,0.001]\n",
    "logFCs = [1]\n",
    "all_N = [3]#,4,5,6,7,8,9,10,12,15]\n",
    "lfc_test = 1\n",
    "param_set = \"p2\"\n",
    "\n",
    "param_sets = [\"p1\",\"p2\"]"
   ]
  },
  {
   "cell_type": "code",
   "execution_count": null,
   "id": "52512662-3f83-4dca-b5f9-faac1df7d7e2",
   "metadata": {},
   "outputs": [],
   "source": [
    "from process import process_pipeline\n",
    "from misc import profile_func\n",
    "import pstats\n",
    "\n",
    "kwargs = {\"outpath\":outpath, \"outname\":outname, \"all_N\": all_N, \"DEAs\":DEAs, \"outlier_methods\": outlier_methods, \n",
    "          \"FDRs\":FDRs, \"logFCs\":logFCs, \"lfc_test\": lfc_test, \"param_set\":param_set, \"overwrite\": 1, \"overwrite_merged\": 1, \"n_cohorts\": 2}\n",
    "\n",
    "do_process = True\n",
    "if do_process:\n",
    "    prof = profile_func(process_pipeline, kwargs)\n",
    "    stats = pstats.Stats(prof).strip_dirs().sort_stats(\"cumtime\")\n",
    "    stats.print_stats(50)"
   ]
  },
  {
   "cell_type": "code",
   "execution_count": null,
   "id": "d348c626-a45b-456a-b227-09539090c5b0",
   "metadata": {},
   "outputs": [],
   "source": [
    "from misc import open_table\n",
    "site = \"liver\"\n",
    "f=f\"../data/{site}/{sites[site]}/{sites[site]}_N3/all.logFC.none.edgerqlf.p2.feather\"\n",
    "tab = open_table(f)\n",
    "tab"
   ]
  },
  {
   "cell_type": "code",
   "execution_count": null,
   "id": "d1854f49-54b3-47df-9003-ff1dbe844932",
   "metadata": {},
   "outputs": [],
   "source": [
    "import sys, importlib\n",
    "importlib.reload(sys.modules[\"misc\"])\n",
    "importlib.reload(sys.modules[\"process\"])"
   ]
  }
 ],
 "metadata": {
  "kernelspec": {
   "display_name": "Python 3 (ipykernel)",
   "language": "python",
   "name": "python3"
  },
  "language_info": {
   "codemirror_mode": {
    "name": "ipython",
    "version": 3
   },
   "file_extension": ".py",
   "mimetype": "text/x-python",
   "name": "python",
   "nbconvert_exporter": "python",
   "pygments_lexer": "ipython3",
   "version": "3.9.7"
  }
 },
 "nbformat": 4,
 "nbformat_minor": 5
}
