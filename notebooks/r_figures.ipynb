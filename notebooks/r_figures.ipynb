{
 "cells": [
  {
   "cell_type": "markdown",
   "id": "786b8dcc-a7bb-46ca-806f-1278941e7205",
   "metadata": {},
   "source": [
    "# Supplementary Figures 9-12\n",
    "\n",
    "Outlier removal metrics"
   ]
  },
  {
   "cell_type": "code",
   "execution_count": 1,
   "id": "80292c9a-0cb9-4ef9-b6a2-484df2e4607d",
   "metadata": {},
   "outputs": [
    {
     "name": "stderr",
     "output_type": "stream",
     "text": [
      "Loading required package: ggplot2\n",
      "\n"
     ]
    }
   ],
   "source": [
    "library(ggpubr)"
   ]
  },
  {
   "cell_type": "code",
   "execution_count": 2,
   "id": "5dadd9e7-f1f5-49d3-851b-eb876083e6f4",
   "metadata": {},
   "outputs": [
    {
     "data": {
      "text/html": [
       "<table class=\"dataframe\">\n",
       "<caption>A data.frame: 6 × 26</caption>\n",
       "<thead>\n",
       "\t<tr><th></th><th scope=col>X</th><th scope=col>Data</th><th scope=col>N</th><th scope=col>Out</th><th scope=col>DEA</th><th scope=col>FDR</th><th scope=col>logFC</th><th scope=col>median_deg</th><th scope=col>median_deg_adj</th><th scope=col>median_mcc</th><th scope=col>⋯</th><th scope=col>median_prec_adj</th><th scope=col>median_rec</th><th scope=col>median_rec_adj</th><th scope=col>median_rep</th><th scope=col>median_rep_adj</th><th scope=col>id</th><th scope=col>rnd_rep</th><th scope=col>rnd_mcc</th><th scope=col>rnd_prec</th><th scope=col>rnd_rec</th></tr>\n",
       "\t<tr><th></th><th scope=col>&lt;int&gt;</th><th scope=col>&lt;fct&gt;</th><th scope=col>&lt;int&gt;</th><th scope=col>&lt;fct&gt;</th><th scope=col>&lt;chr&gt;</th><th scope=col>&lt;dbl&gt;</th><th scope=col>&lt;chr&gt;</th><th scope=col>&lt;dbl&gt;</th><th scope=col>&lt;dbl&gt;</th><th scope=col>&lt;dbl&gt;</th><th scope=col>⋯</th><th scope=col>&lt;dbl&gt;</th><th scope=col>&lt;dbl&gt;</th><th scope=col>&lt;dbl&gt;</th><th scope=col>&lt;dbl&gt;</th><th scope=col>&lt;dbl&gt;</th><th scope=col>&lt;int&gt;</th><th scope=col>&lt;dbl&gt;</th><th scope=col>&lt;dbl&gt;</th><th scope=col>&lt;dbl&gt;</th><th scope=col>&lt;dbl&gt;</th></tr>\n",
       "</thead>\n",
       "<tbody>\n",
       "\t<tr><th scope=row>1</th><td>0</td><td>BRCA</td><td>3</td><td>ReBoost</td><td>DESeq2 Wald</td><td>0.001</td><td>0</td><td> 718.5</td><td> 876.0</td><td>0.1287263</td><td>⋯</td><td>0.9534446</td><td>0.05765143</td><td>0.07266206</td><td>0.1751701</td><td>0.1977240</td><td>0</td><td>0.02031707</td><td>-3.241152e-17</td><td>0.7149339</td><td>0.03982501</td></tr>\n",
       "\t<tr><th scope=row>2</th><td>1</td><td>BRCA</td><td>3</td><td>ReBoost</td><td>DESeq2 Wald</td><td>0.001</td><td>1</td><td> 718.5</td><td> 876.0</td><td>0.3441934</td><td>⋯</td><td>0.9189796</td><td>0.17296307</td><td>0.21976318</td><td>0.1751701</td><td>0.1977240</td><td>0</td><td>0.02031707</td><td> 2.794907e-17</td><td>0.1904347</td><td>0.03982501</td></tr>\n",
       "\t<tr><th scope=row>3</th><td>2</td><td>BRCA</td><td>3</td><td>ReBoost</td><td>DESeq2 Wald</td><td>0.010</td><td>0</td><td>1249.0</td><td>1437.5</td><td>0.1415755</td><td>⋯</td><td>0.9605580</td><td>0.09385088</td><td>0.10723565</td><td>0.2155772</td><td>0.2371134</td><td>0</td><td>0.03585592</td><td> 2.496810e-17</td><td>0.7149339</td><td>0.06922955</td></tr>\n",
       "\t<tr><th scope=row>4</th><td>3</td><td>BRCA</td><td>3</td><td>ReBoost</td><td>DESeq2 Wald</td><td>0.010</td><td>1</td><td>1249.0</td><td>1437.5</td><td>0.4200659</td><td>⋯</td><td>0.8620301</td><td>0.28705257</td><td>0.32955817</td><td>0.2155772</td><td>0.2384403</td><td>0</td><td>0.03585592</td><td> 1.435365e-16</td><td>0.1904347</td><td>0.06922955</td></tr>\n",
       "\t<tr><th scope=row>5</th><td>4</td><td>BRCA</td><td>3</td><td>ReBoost</td><td>DESeq2 Wald</td><td>0.050</td><td>0</td><td>2084.5</td><td>2423.0</td><td>0.1503209</td><td>⋯</td><td>0.9587545</td><td>0.14502087</td><td>0.16167794</td><td>0.2458736</td><td>0.2667461</td><td>0</td><td>0.06131179</td><td> 3.965317e-17</td><td>0.7149339</td><td>0.11553963</td></tr>\n",
       "\t<tr><th scope=row>6</th><td>5</td><td>BRCA</td><td>3</td><td>ReBoost</td><td>DESeq2 Wald</td><td>0.050</td><td>1</td><td>2084.5</td><td>2423.0</td><td>0.4698055</td><td>⋯</td><td>0.7455956</td><td>0.41801676</td><td>0.46745810</td><td>0.2461140</td><td>0.2683662</td><td>0</td><td>0.06131179</td><td> 2.279579e-17</td><td>0.1904347</td><td>0.11553963</td></tr>\n",
       "</tbody>\n",
       "</table>\n"
      ],
      "text/latex": [
       "A data.frame: 6 × 26\n",
       "\\begin{tabular}{r|lllllllllllllllllllll}\n",
       "  & X & Data & N & Out & DEA & FDR & logFC & median\\_deg & median\\_deg\\_adj & median\\_mcc & ⋯ & median\\_prec\\_adj & median\\_rec & median\\_rec\\_adj & median\\_rep & median\\_rep\\_adj & id & rnd\\_rep & rnd\\_mcc & rnd\\_prec & rnd\\_rec\\\\\n",
       "  & <int> & <fct> & <int> & <fct> & <chr> & <dbl> & <chr> & <dbl> & <dbl> & <dbl> & ⋯ & <dbl> & <dbl> & <dbl> & <dbl> & <dbl> & <int> & <dbl> & <dbl> & <dbl> & <dbl>\\\\\n",
       "\\hline\n",
       "\t1 & 0 & BRCA & 3 & ReBoost & DESeq2 Wald & 0.001 & 0 &  718.5 &  876.0 & 0.1287263 & ⋯ & 0.9534446 & 0.05765143 & 0.07266206 & 0.1751701 & 0.1977240 & 0 & 0.02031707 & -3.241152e-17 & 0.7149339 & 0.03982501\\\\\n",
       "\t2 & 1 & BRCA & 3 & ReBoost & DESeq2 Wald & 0.001 & 1 &  718.5 &  876.0 & 0.3441934 & ⋯ & 0.9189796 & 0.17296307 & 0.21976318 & 0.1751701 & 0.1977240 & 0 & 0.02031707 &  2.794907e-17 & 0.1904347 & 0.03982501\\\\\n",
       "\t3 & 2 & BRCA & 3 & ReBoost & DESeq2 Wald & 0.010 & 0 & 1249.0 & 1437.5 & 0.1415755 & ⋯ & 0.9605580 & 0.09385088 & 0.10723565 & 0.2155772 & 0.2371134 & 0 & 0.03585592 &  2.496810e-17 & 0.7149339 & 0.06922955\\\\\n",
       "\t4 & 3 & BRCA & 3 & ReBoost & DESeq2 Wald & 0.010 & 1 & 1249.0 & 1437.5 & 0.4200659 & ⋯ & 0.8620301 & 0.28705257 & 0.32955817 & 0.2155772 & 0.2384403 & 0 & 0.03585592 &  1.435365e-16 & 0.1904347 & 0.06922955\\\\\n",
       "\t5 & 4 & BRCA & 3 & ReBoost & DESeq2 Wald & 0.050 & 0 & 2084.5 & 2423.0 & 0.1503209 & ⋯ & 0.9587545 & 0.14502087 & 0.16167794 & 0.2458736 & 0.2667461 & 0 & 0.06131179 &  3.965317e-17 & 0.7149339 & 0.11553963\\\\\n",
       "\t6 & 5 & BRCA & 3 & ReBoost & DESeq2 Wald & 0.050 & 1 & 2084.5 & 2423.0 & 0.4698055 & ⋯ & 0.7455956 & 0.41801676 & 0.46745810 & 0.2461140 & 0.2683662 & 0 & 0.06131179 &  2.279579e-17 & 0.1904347 & 0.11553963\\\\\n",
       "\\end{tabular}\n"
      ],
      "text/markdown": [
       "\n",
       "A data.frame: 6 × 26\n",
       "\n",
       "| <!--/--> | X &lt;int&gt; | Data &lt;fct&gt; | N &lt;int&gt; | Out &lt;fct&gt; | DEA &lt;chr&gt; | FDR &lt;dbl&gt; | logFC &lt;chr&gt; | median_deg &lt;dbl&gt; | median_deg_adj &lt;dbl&gt; | median_mcc &lt;dbl&gt; | ⋯ ⋯ | median_prec_adj &lt;dbl&gt; | median_rec &lt;dbl&gt; | median_rec_adj &lt;dbl&gt; | median_rep &lt;dbl&gt; | median_rep_adj &lt;dbl&gt; | id &lt;int&gt; | rnd_rep &lt;dbl&gt; | rnd_mcc &lt;dbl&gt; | rnd_prec &lt;dbl&gt; | rnd_rec &lt;dbl&gt; |\n",
       "|---|---|---|---|---|---|---|---|---|---|---|---|---|---|---|---|---|---|---|---|---|---|\n",
       "| 1 | 0 | BRCA | 3 | ReBoost | DESeq2 Wald | 0.001 | 0 |  718.5 |  876.0 | 0.1287263 | ⋯ | 0.9534446 | 0.05765143 | 0.07266206 | 0.1751701 | 0.1977240 | 0 | 0.02031707 | -3.241152e-17 | 0.7149339 | 0.03982501 |\n",
       "| 2 | 1 | BRCA | 3 | ReBoost | DESeq2 Wald | 0.001 | 1 |  718.5 |  876.0 | 0.3441934 | ⋯ | 0.9189796 | 0.17296307 | 0.21976318 | 0.1751701 | 0.1977240 | 0 | 0.02031707 |  2.794907e-17 | 0.1904347 | 0.03982501 |\n",
       "| 3 | 2 | BRCA | 3 | ReBoost | DESeq2 Wald | 0.010 | 0 | 1249.0 | 1437.5 | 0.1415755 | ⋯ | 0.9605580 | 0.09385088 | 0.10723565 | 0.2155772 | 0.2371134 | 0 | 0.03585592 |  2.496810e-17 | 0.7149339 | 0.06922955 |\n",
       "| 4 | 3 | BRCA | 3 | ReBoost | DESeq2 Wald | 0.010 | 1 | 1249.0 | 1437.5 | 0.4200659 | ⋯ | 0.8620301 | 0.28705257 | 0.32955817 | 0.2155772 | 0.2384403 | 0 | 0.03585592 |  1.435365e-16 | 0.1904347 | 0.06922955 |\n",
       "| 5 | 4 | BRCA | 3 | ReBoost | DESeq2 Wald | 0.050 | 0 | 2084.5 | 2423.0 | 0.1503209 | ⋯ | 0.9587545 | 0.14502087 | 0.16167794 | 0.2458736 | 0.2667461 | 0 | 0.06131179 |  3.965317e-17 | 0.7149339 | 0.11553963 |\n",
       "| 6 | 5 | BRCA | 3 | ReBoost | DESeq2 Wald | 0.050 | 1 | 2084.5 | 2423.0 | 0.4698055 | ⋯ | 0.7455956 | 0.41801676 | 0.46745810 | 0.2461140 | 0.2683662 | 0 | 0.06131179 |  2.279579e-17 | 0.1904347 | 0.11553963 |\n",
       "\n"
      ],
      "text/plain": [
       "  X Data N Out     DEA         FDR   logFC median_deg median_deg_adj median_mcc\n",
       "1 0 BRCA 3 ReBoost DESeq2 Wald 0.001 0      718.5      876.0         0.1287263 \n",
       "2 1 BRCA 3 ReBoost DESeq2 Wald 0.001 1      718.5      876.0         0.3441934 \n",
       "3 2 BRCA 3 ReBoost DESeq2 Wald 0.010 0     1249.0     1437.5         0.1415755 \n",
       "4 3 BRCA 3 ReBoost DESeq2 Wald 0.010 1     1249.0     1437.5         0.4200659 \n",
       "5 4 BRCA 3 ReBoost DESeq2 Wald 0.050 0     2084.5     2423.0         0.1503209 \n",
       "6 5 BRCA 3 ReBoost DESeq2 Wald 0.050 1     2084.5     2423.0         0.4698055 \n",
       "  ⋯ median_prec_adj median_rec median_rec_adj median_rep median_rep_adj id\n",
       "1 ⋯ 0.9534446       0.05765143 0.07266206     0.1751701  0.1977240      0 \n",
       "2 ⋯ 0.9189796       0.17296307 0.21976318     0.1751701  0.1977240      0 \n",
       "3 ⋯ 0.9605580       0.09385088 0.10723565     0.2155772  0.2371134      0 \n",
       "4 ⋯ 0.8620301       0.28705257 0.32955817     0.2155772  0.2384403      0 \n",
       "5 ⋯ 0.9587545       0.14502087 0.16167794     0.2458736  0.2667461      0 \n",
       "6 ⋯ 0.7455956       0.41801676 0.46745810     0.2461140  0.2683662      0 \n",
       "  rnd_rep    rnd_mcc       rnd_prec  rnd_rec   \n",
       "1 0.02031707 -3.241152e-17 0.7149339 0.03982501\n",
       "2 0.02031707  2.794907e-17 0.1904347 0.03982501\n",
       "3 0.03585592  2.496810e-17 0.7149339 0.06922955\n",
       "4 0.03585592  1.435365e-16 0.1904347 0.06922955\n",
       "5 0.06131179  3.965317e-17 0.7149339 0.11553963\n",
       "6 0.06131179  2.279579e-17 0.1904347 0.11553963"
      ]
     },
     "metadata": {},
     "output_type": "display_data"
    }
   ],
   "source": [
    "df <- read.csv(file = \"../data/multi/combined_td_post_and_test.csv\")\n",
    "\n",
    "df$Out <- factor(df$Out, levels = c(\"ReBoost\", \"rPCA\", \"None\")) # change order\n",
    "df$Data <- factor(df$Data, levels = c(\"THCA\",\"PRAD\",\"LIHC\",\"KIRC\",\"BRCA\",\"COAD\",\"LUAD\"))\n",
    "\n",
    "head(df)"
   ]
  },
  {
   "cell_type": "code",
   "execution_count": 3,
   "id": "2d99fa1e-215a-480f-82ab-915a8cc2e0cd",
   "metadata": {},
   "outputs": [],
   "source": [
    "met <- \"prec0\"\n",
    "ylim <- c(0, 0.82)\n",
    "labely <- c(0.75,0.75)\n",
    "\n",
    "if (met==\"rec\") {\n",
    "    ylab <- \"Median Recall\"\n",
    "    ylim <- c(0,1)\n",
    "    prefix <- \"sfig12_\"\n",
    "} else if (met == \"prec\" || met == \"prec0\") {\n",
    "    ylab <- \"Median Precision\"\n",
    "    ylim <- c(0.55, 1)\n",
    "    labely <- c(0.55,0.55)\n",
    "    prefix <- \"sfig11_\"\n",
    "} else if (met == \"MCC\" || met == \"mcc0\") {\n",
    "    ylim <- c(0,1)\n",
    "    ylab <- \"Median MCC\"\n",
    "    prefix <- \"sfig10_\"\n",
    "} else if (met == \"rep\") {\n",
    "    ylim <- c(0,1)\n",
    "    ylab <- \"Median Replicability\"\n",
    "    prefix <- \"sfig9_\"\n",
    "}"
   ]
  },
  {
   "cell_type": "code",
   "execution_count": 4,
   "id": "23555268-8891-4f9c-8891-c5657dd31dd5",
   "metadata": {},
   "outputs": [
    {
     "name": "stderr",
     "output_type": "stream",
     "text": [
      "Warning message:\n",
      "“\u001b[1m\u001b[22mComputation failed in `stat_signif()`\n",
      "Caused by error in `if (scales$x$map(comp[1]) == data$group[1] | manual) ...`:\n",
      "\u001b[33m!\u001b[39m missing value where TRUE/FALSE needed”\n",
      "Warning message:\n",
      "“\u001b[1m\u001b[22mComputation failed in `stat_signif()`\n",
      "Caused by error in `if (scales$x$map(comp[1]) == data$group[1] | manual) ...`:\n",
      "\u001b[33m!\u001b[39m missing value where TRUE/FALSE needed”\n",
      "Warning message:\n",
      "“\u001b[1m\u001b[22mComputation failed in `stat_signif()`\n",
      "Caused by error in `if (scales$x$map(comp[1]) == data$group[1] | manual) ...`:\n",
      "\u001b[33m!\u001b[39m missing value where TRUE/FALSE needed”\n",
      "Warning message:\n",
      "“\u001b[1m\u001b[22mComputation failed in `stat_signif()`\n",
      "Caused by error in `if (scales$x$map(comp[1]) == data$group[1] | manual) ...`:\n",
      "\u001b[33m!\u001b[39m missing value where TRUE/FALSE needed”\n",
      "Warning message:\n",
      "“\u001b[1m\u001b[22mComputation failed in `stat_signif()`\n",
      "Caused by error in `if (scales$x$map(comp[1]) == data$group[1] | manual) ...`:\n",
      "\u001b[33m!\u001b[39m missing value where TRUE/FALSE needed”\n",
      "Warning message:\n",
      "“\u001b[1m\u001b[22mComputation failed in `stat_signif()`\n",
      "Caused by error in `if (scales$x$map(comp[1]) == data$group[1] | manual) ...`:\n",
      "\u001b[33m!\u001b[39m missing value where TRUE/FALSE needed”\n"
     ]
    },
    {
     "name": "stdout",
     "output_type": "stream",
     "text": [
      "[1] \"../figures/sfig11_prec0_vs_outlier.pdf\"\n"
     ]
    },
    {
     "name": "stderr",
     "output_type": "stream",
     "text": [
      "Warning message:\n",
      "“\u001b[1m\u001b[22mComputation failed in `stat_signif()`\n",
      "Caused by error in `if (scales$x$map(comp[1]) == data$group[1] | manual) ...`:\n",
      "\u001b[33m!\u001b[39m missing value where TRUE/FALSE needed”\n",
      "Warning message:\n",
      "“\u001b[1m\u001b[22mComputation failed in `stat_signif()`\n",
      "Caused by error in `if (scales$x$map(comp[1]) == data$group[1] | manual) ...`:\n",
      "\u001b[33m!\u001b[39m missing value where TRUE/FALSE needed”\n",
      "Warning message:\n",
      "“\u001b[1m\u001b[22mComputation failed in `stat_signif()`\n",
      "Caused by error in `if (scales$x$map(comp[1]) == data$group[1] | manual) ...`:\n",
      "\u001b[33m!\u001b[39m missing value where TRUE/FALSE needed”\n",
      "Warning message:\n",
      "“\u001b[1m\u001b[22mComputation failed in `stat_signif()`\n",
      "Caused by error in `if (scales$x$map(comp[1]) == data$group[1] | manual) ...`:\n",
      "\u001b[33m!\u001b[39m missing value where TRUE/FALSE needed”\n",
      "Warning message:\n",
      "“\u001b[1m\u001b[22mComputation failed in `stat_signif()`\n",
      "Caused by error in `if (scales$x$map(comp[1]) == data$group[1] | manual) ...`:\n",
      "\u001b[33m!\u001b[39m missing value where TRUE/FALSE needed”\n",
      "Warning message:\n",
      "“\u001b[1m\u001b[22mComputation failed in `stat_signif()`\n",
      "Caused by error in `if (scales$x$map(comp[1]) == data$group[1] | manual) ...`:\n",
      "\u001b[33m!\u001b[39m missing value where TRUE/FALSE needed”\n"
     ]
    },
    {
     "data": {
      "image/png": "[encoded data removed]",
      "text/plain": [
       "plot without title"
      ]
     },
     "metadata": {
      "image/png": {
       "height": 420,
       "width": 420
      }
     },
     "output_type": "display_data"
    }
   ],
   "source": [
    "df_red <- df[which((df[\"FDR\"] == 0.05) & (df[\"logFC\"] != \"test\")),]\n",
    "df_red <- df_red[which(df_red[\"N\"] < 15),]\n",
    "df_red$Out <- factor(df_red$Out, levels = c(\"ReBoost\", \"rPCA\", \"None\"))\n",
    "\n",
    "p <- ggboxplot(df_red, x = \"Out\", y = paste0(\"median_\",met,\"_adj\"),\n",
    "          color = \"Out\", palette = \"jco\", id=\"id\",\n",
    "          facet.by = c(\"logFC\",\"DEA\"), short.panel.labs = TRUE,\n",
    "          add=\"jitter\",scales=\"free\",\n",
    "          xlab=\"Outlier Method\", ylab=ylab)\n",
    "\n",
    "\n",
    "my_comparisons <- list(c(\"Jackknife\",\"rPCA\"), c(\"rPCA\", \"None\"))\n",
    "p <- p + stat_compare_means(label = \"p.signif\", comparisons = my_comparisons, paired = TRUE, method=\"wilcox.test\")\n",
    "\n",
    "ggpar(p, ylim = ylim)\n",
    "\n",
    "figpath <- paste0(\"../figures/\",prefix,met,\"_vs_outlier.pdf\")\n",
    "print(figpath)\n",
    "ggsave(figpath,height=8,width=9)"
   ]
  },
  {
   "cell_type": "markdown",
   "id": "199b9a48-866e-4f0f-a8e5-251972cacba8",
   "metadata": {},
   "source": [
    "# Tests"
   ]
  },
  {
   "cell_type": "code",
   "execution_count": 5,
   "id": "4e2cf6c8-06e3-4ae5-b534-f6abfd998339",
   "metadata": {},
   "outputs": [
    {
     "data": {
      "text/html": [
       "<table class=\"dataframe\">\n",
       "<caption>A matrix: 6 × 4 of type dbl</caption>\n",
       "<thead>\n",
       "\t<tr><th></th><th scope=col>(Intercept)</th><th scope=col>patient2</th><th scope=col>patient3</th><th scope=col>conditionT</th></tr>\n",
       "</thead>\n",
       "<tbody>\n",
       "\t<tr><th scope=row>1</th><td>1</td><td>0</td><td>0</td><td>0</td></tr>\n",
       "\t<tr><th scope=row>2</th><td>1</td><td>1</td><td>0</td><td>0</td></tr>\n",
       "\t<tr><th scope=row>3</th><td>1</td><td>0</td><td>1</td><td>0</td></tr>\n",
       "\t<tr><th scope=row>4</th><td>1</td><td>0</td><td>0</td><td>1</td></tr>\n",
       "\t<tr><th scope=row>5</th><td>1</td><td>1</td><td>0</td><td>1</td></tr>\n",
       "\t<tr><th scope=row>6</th><td>1</td><td>0</td><td>1</td><td>1</td></tr>\n",
       "</tbody>\n",
       "</table>\n"
      ],
      "text/latex": [
       "A matrix: 6 × 4 of type dbl\n",
       "\\begin{tabular}{r|llll}\n",
       "  & (Intercept) & patient2 & patient3 & conditionT\\\\\n",
       "\\hline\n",
       "\t1 & 1 & 0 & 0 & 0\\\\\n",
       "\t2 & 1 & 1 & 0 & 0\\\\\n",
       "\t3 & 1 & 0 & 1 & 0\\\\\n",
       "\t4 & 1 & 0 & 0 & 1\\\\\n",
       "\t5 & 1 & 1 & 0 & 1\\\\\n",
       "\t6 & 1 & 0 & 1 & 1\\\\\n",
       "\\end{tabular}\n"
      ],
      "text/markdown": [
       "\n",
       "A matrix: 6 × 4 of type dbl\n",
       "\n",
       "| <!--/--> | (Intercept) | patient2 | patient3 | conditionT |\n",
       "|---|---|---|---|---|\n",
       "| 1 | 1 | 0 | 0 | 0 |\n",
       "| 2 | 1 | 1 | 0 | 0 |\n",
       "| 3 | 1 | 0 | 1 | 0 |\n",
       "| 4 | 1 | 0 | 0 | 1 |\n",
       "| 5 | 1 | 1 | 0 | 1 |\n",
       "| 6 | 1 | 0 | 1 | 1 |\n",
       "\n"
      ],
      "text/plain": [
       "  (Intercept) patient2 patient3 conditionT\n",
       "1 1           0        0        0         \n",
       "2 1           1        0        0         \n",
       "3 1           0        1        0         \n",
       "4 1           0        0        1         \n",
       "5 1           1        0        1         \n",
       "6 1           0        1        1         "
      ]
     },
     "metadata": {},
     "output_type": "display_data"
    }
   ],
   "source": [
    "N <- 3\n",
    "\n",
    "patient <- factor(c(seq(N),seq(N)))\n",
    "condition <- factor(c(rep(\"N\",N),rep(\"T\",N)))\n",
    "design <- model.matrix(~patient+condition)\n",
    "\n",
    "design"
   ]
  },
  {
   "cell_type": "code",
   "execution_count": 6,
   "id": "fb1757c6-f52e-40fb-b2b3-10f23ace0725",
   "metadata": {},
   "outputs": [
    {
     "data": {
      "text/html": [
       "<table class=\"dataframe\">\n",
       "<caption>A matrix: 6 × 4 of type dbl</caption>\n",
       "<thead>\n",
       "\t<tr><th></th><th scope=col>(Intercept)</th><th scope=col>patient2</th><th scope=col>patient3</th><th scope=col>conditionT</th></tr>\n",
       "</thead>\n",
       "<tbody>\n",
       "\t<tr><th scope=row>1</th><td>1</td><td>0</td><td>0</td><td>0</td></tr>\n",
       "\t<tr><th scope=row>2</th><td>1</td><td>0</td><td>0</td><td>1</td></tr>\n",
       "\t<tr><th scope=row>3</th><td>1</td><td>1</td><td>0</td><td>0</td></tr>\n",
       "\t<tr><th scope=row>4</th><td>1</td><td>1</td><td>0</td><td>1</td></tr>\n",
       "\t<tr><th scope=row>5</th><td>1</td><td>0</td><td>1</td><td>0</td></tr>\n",
       "\t<tr><th scope=row>6</th><td>1</td><td>0</td><td>1</td><td>1</td></tr>\n",
       "</tbody>\n",
       "</table>\n"
      ],
      "text/latex": [
       "A matrix: 6 × 4 of type dbl\n",
       "\\begin{tabular}{r|llll}\n",
       "  & (Intercept) & patient2 & patient3 & conditionT\\\\\n",
       "\\hline\n",
       "\t1 & 1 & 0 & 0 & 0\\\\\n",
       "\t2 & 1 & 0 & 0 & 1\\\\\n",
       "\t3 & 1 & 1 & 0 & 0\\\\\n",
       "\t4 & 1 & 1 & 0 & 1\\\\\n",
       "\t5 & 1 & 0 & 1 & 0\\\\\n",
       "\t6 & 1 & 0 & 1 & 1\\\\\n",
       "\\end{tabular}\n"
      ],
      "text/markdown": [
       "\n",
       "A matrix: 6 × 4 of type dbl\n",
       "\n",
       "| <!--/--> | (Intercept) | patient2 | patient3 | conditionT |\n",
       "|---|---|---|---|---|\n",
       "| 1 | 1 | 0 | 0 | 0 |\n",
       "| 2 | 1 | 0 | 0 | 1 |\n",
       "| 3 | 1 | 1 | 0 | 0 |\n",
       "| 4 | 1 | 1 | 0 | 1 |\n",
       "| 5 | 1 | 0 | 1 | 0 |\n",
       "| 6 | 1 | 0 | 1 | 1 |\n",
       "\n"
      ],
      "text/plain": [
       "  (Intercept) patient2 patient3 conditionT\n",
       "1 1           0        0        0         \n",
       "2 1           0        0        1         \n",
       "3 1           1        0        0         \n",
       "4 1           1        0        1         \n",
       "5 1           0        1        0         \n",
       "6 1           0        1        1         "
      ]
     },
     "metadata": {},
     "output_type": "display_data"
    }
   ],
   "source": [
    "patient <- factor(rep(1:N, each=2))\n",
    "condition <- factor(rep(c(\"N\", \"T\"), times=N))\n",
    "design <- model.matrix(~ patient + condition)\n",
    "design"
   ]
  },
  {
   "cell_type": "code",
   "execution_count": 13,
   "id": "69ce6bfd-8e2d-4760-aa42-e253b008493f",
   "metadata": {},
   "outputs": [
    {
     "data": {
      "text/html": [
       "<table class=\"dataframe\">\n",
       "<caption>A data.frame: 6 × 2</caption>\n",
       "<thead>\n",
       "\t<tr><th scope=col>X1</th><th scope=col>X2</th></tr>\n",
       "\t<tr><th scope=col>&lt;chr&gt;</th><th scope=col>&lt;chr&gt;</th></tr>\n",
       "</thead>\n",
       "<tbody>\n",
       "\t<tr><td>1</td><td>N</td></tr>\n",
       "\t<tr><td>2</td><td>N</td></tr>\n",
       "\t<tr><td>3</td><td>N</td></tr>\n",
       "\t<tr><td>1</td><td>T</td></tr>\n",
       "\t<tr><td>2</td><td>T</td></tr>\n",
       "\t<tr><td>3</td><td>T</td></tr>\n",
       "</tbody>\n",
       "</table>\n"
      ],
      "text/latex": [
       "A data.frame: 6 × 2\n",
       "\\begin{tabular}{ll}\n",
       " X1 & X2\\\\\n",
       " <chr> & <chr>\\\\\n",
       "\\hline\n",
       "\t 1 & N\\\\\n",
       "\t 2 & N\\\\\n",
       "\t 3 & N\\\\\n",
       "\t 1 & T\\\\\n",
       "\t 2 & T\\\\\n",
       "\t 3 & T\\\\\n",
       "\\end{tabular}\n"
      ],
      "text/markdown": [
       "\n",
       "A data.frame: 6 × 2\n",
       "\n",
       "| X1 &lt;chr&gt; | X2 &lt;chr&gt; |\n",
       "|---|---|\n",
       "| 1 | N |\n",
       "| 2 | N |\n",
       "| 3 | N |\n",
       "| 1 | T |\n",
       "| 2 | T |\n",
       "| 3 | T |\n",
       "\n"
      ],
      "text/plain": [
       "  X1 X2\n",
       "1 1  N \n",
       "2 2  N \n",
       "3 3  N \n",
       "4 1  T \n",
       "5 2  T \n",
       "6 3  T "
      ]
     },
     "metadata": {},
     "output_type": "display_data"
    }
   ],
   "source": [
    "patients <- factor(c(seq(N),seq(N)))\n",
    "condition <- factor(c(rep(\"N\",N),rep(\"T\",N))) # normal vs tumor (control vs treatment)\n",
    "array = array(factor(c(patients,condition)),dim=c(length(patients),2))\n",
    "coldata <- data.frame(array)#, row.names = colnames(x))\n",
    "# colnames(coldata) <- c(\"patient\",\"condition\")\n",
    "\n",
    "coldata"
   ]
  },
  {
   "cell_type": "code",
   "execution_count": 15,
   "id": "60b843ef-3f51-44bd-932e-648fdebfc2ee",
   "metadata": {},
   "outputs": [
    {
     "data": {
      "text/html": [
       "<table class=\"dataframe\">\n",
       "<caption>A data.frame: 6 × 1</caption>\n",
       "<thead>\n",
       "\t<tr><th scope=col>array</th></tr>\n",
       "\t<tr><th scope=col>&lt;chr&gt;</th></tr>\n",
       "</thead>\n",
       "<tbody>\n",
       "\t<tr><td>N</td></tr>\n",
       "\t<tr><td>N</td></tr>\n",
       "\t<tr><td>N</td></tr>\n",
       "\t<tr><td>T</td></tr>\n",
       "\t<tr><td>T</td></tr>\n",
       "\t<tr><td>T</td></tr>\n",
       "</tbody>\n",
       "</table>\n"
      ],
      "text/latex": [
       "A data.frame: 6 × 1\n",
       "\\begin{tabular}{l}\n",
       " array\\\\\n",
       " <chr>\\\\\n",
       "\\hline\n",
       "\t N\\\\\n",
       "\t N\\\\\n",
       "\t N\\\\\n",
       "\t T\\\\\n",
       "\t T\\\\\n",
       "\t T\\\\\n",
       "\\end{tabular}\n"
      ],
      "text/markdown": [
       "\n",
       "A data.frame: 6 × 1\n",
       "\n",
       "| array &lt;chr&gt; |\n",
       "|---|\n",
       "| N |\n",
       "| N |\n",
       "| N |\n",
       "| T |\n",
       "| T |\n",
       "| T |\n",
       "\n"
      ],
      "text/plain": [
       "  array\n",
       "1 N    \n",
       "2 N    \n",
       "3 N    \n",
       "4 T    \n",
       "5 T    \n",
       "6 T    "
      ]
     },
     "metadata": {},
     "output_type": "display_data"
    }
   ],
   "source": [
    "condition <- factor(c(rep(\"N\",N),rep(\"T\",N))) # normal vs tumor (control vs treatment)\n",
    "array = array(factor(condition),dim=c(length(condition)))\n",
    "coldata <- data.frame(array)#, row.names = colnames(x))\n",
    "# coldata <- data.frame(array, row.names = colnames(x))\n",
    "# colnames(coldata) <- c(\"patient\",\"condition\")\n",
    "\n",
    "coldata"
   ]
  },
  {
   "cell_type": "markdown",
   "id": "85848457-d7ca-4aca-b15b-ca61fd2a2fd8",
   "metadata": {},
   "source": [
    "# R tests"
   ]
  },
  {
   "cell_type": "code",
   "execution_count": null,
   "id": "614b3843-4258-4562-8542-8f9a75a42239",
   "metadata": {},
   "outputs": [],
   "source": [
    "library(edgeR)\n",
    "library(dplyr)"
   ]
  },
  {
   "cell_type": "code",
   "execution_count": 2,
   "id": "db423457-a7f4-4174-b619-73d937d3653d",
   "metadata": {},
   "outputs": [
    {
     "name": "stdout",
     "output_type": "stream",
     "text": [
      "[1] 18838   205\n"
     ]
    },
    {
     "data": {
      "text/html": [
       "<table class=\"dataframe\">\n",
       "<caption>A data.frame: 6 × 205</caption>\n",
       "<thead>\n",
       "\t<tr><th></th><th scope=col>control_1089</th><th scope=col>control_1092</th><th scope=col>control_1096</th><th scope=col>control_1097</th><th scope=col>control_1102</th><th scope=col>control_1109</th><th scope=col>control_1111</th><th scope=col>control_1112</th><th scope=col>control_1113</th><th scope=col>control_256</th><th scope=col>⋯</th><th scope=col>ipf_926</th><th scope=col>ipf_938</th><th scope=col>ipf_940</th><th scope=col>ipf_954</th><th scope=col>ipf_965</th><th scope=col>ipf_990</th><th scope=col>ipf_992</th><th scope=col>ipf_994</th><th scope=col>ipf_997</th><th scope=col>ipf_998</th></tr>\n",
       "\t<tr><th></th><th scope=col>&lt;int&gt;</th><th scope=col>&lt;int&gt;</th><th scope=col>&lt;int&gt;</th><th scope=col>&lt;int&gt;</th><th scope=col>&lt;int&gt;</th><th scope=col>&lt;int&gt;</th><th scope=col>&lt;int&gt;</th><th scope=col>&lt;int&gt;</th><th scope=col>&lt;int&gt;</th><th scope=col>&lt;int&gt;</th><th scope=col>⋯</th><th scope=col>&lt;int&gt;</th><th scope=col>&lt;int&gt;</th><th scope=col>&lt;int&gt;</th><th scope=col>&lt;int&gt;</th><th scope=col>&lt;int&gt;</th><th scope=col>&lt;int&gt;</th><th scope=col>&lt;int&gt;</th><th scope=col>&lt;int&gt;</th><th scope=col>&lt;int&gt;</th><th scope=col>&lt;int&gt;</th></tr>\n",
       "</thead>\n",
       "<tbody>\n",
       "\t<tr><th scope=row>TSPAN6</th><td> 811</td><td> 707</td><td> 566</td><td>1338</td><td> 577</td><td> 655</td><td>1028</td><td> 780</td><td>1092</td><td> 767</td><td>⋯</td><td>1110</td><td>1197</td><td> 910</td><td> 516</td><td>2524</td><td> 676</td><td> 516</td><td>2240</td><td>2360</td><td> 533</td></tr>\n",
       "\t<tr><th scope=row>TNMD</th><td>   0</td><td>   0</td><td>   0</td><td>   0</td><td>   0</td><td>   0</td><td>   5</td><td>   0</td><td>   6</td><td>   0</td><td>⋯</td><td>   8</td><td>   2</td><td>   0</td><td>   0</td><td>   0</td><td>   0</td><td>   3</td><td>   0</td><td>   0</td><td>   6</td></tr>\n",
       "\t<tr><th scope=row>DPM1</th><td>2241</td><td>2550</td><td>2115</td><td>2147</td><td>2045</td><td>2060</td><td>2841</td><td>2304</td><td>2084</td><td>1656</td><td>⋯</td><td>1831</td><td>1745</td><td>1381</td><td>1267</td><td>2376</td><td>1349</td><td>1259</td><td>1780</td><td>2324</td><td>2115</td></tr>\n",
       "\t<tr><th scope=row>SCYL3</th><td> 166</td><td> 335</td><td> 220</td><td> 206</td><td> 213</td><td> 158</td><td> 216</td><td> 257</td><td> 199</td><td> 213</td><td>⋯</td><td> 257</td><td> 113</td><td> 131</td><td> 187</td><td> 337</td><td>  99</td><td>  86</td><td> 161</td><td> 260</td><td> 147</td></tr>\n",
       "\t<tr><th scope=row>C1orf112</th><td> 109</td><td> 156</td><td>  79</td><td>  96</td><td>  87</td><td>  83</td><td> 192</td><td> 143</td><td> 114</td><td>  92</td><td>⋯</td><td> 149</td><td>  57</td><td>  84</td><td>  46</td><td> 139</td><td>  81</td><td>  50</td><td>  93</td><td> 161</td><td> 102</td></tr>\n",
       "\t<tr><th scope=row>FGR</th><td>4156</td><td>7445</td><td>5172</td><td>5832</td><td>5423</td><td>1711</td><td>1891</td><td>1725</td><td>4236</td><td>3988</td><td>⋯</td><td>2391</td><td> 720</td><td>1169</td><td>1301</td><td>5136</td><td> 987</td><td>1849</td><td>1080</td><td>1732</td><td>3557</td></tr>\n",
       "</tbody>\n",
       "</table>\n"
      ],
      "text/latex": [
       "A data.frame: 6 × 205\n",
       "\\begin{tabular}{r|lllllllllllllllllllll}\n",
       "  & control\\_1089 & control\\_1092 & control\\_1096 & control\\_1097 & control\\_1102 & control\\_1109 & control\\_1111 & control\\_1112 & control\\_1113 & control\\_256 & ⋯ & ipf\\_926 & ipf\\_938 & ipf\\_940 & ipf\\_954 & ipf\\_965 & ipf\\_990 & ipf\\_992 & ipf\\_994 & ipf\\_997 & ipf\\_998\\\\\n",
       "  & <int> & <int> & <int> & <int> & <int> & <int> & <int> & <int> & <int> & <int> & ⋯ & <int> & <int> & <int> & <int> & <int> & <int> & <int> & <int> & <int> & <int>\\\\\n",
       "\\hline\n",
       "\tTSPAN6 &  811 &  707 &  566 & 1338 &  577 &  655 & 1028 &  780 & 1092 &  767 & ⋯ & 1110 & 1197 &  910 &  516 & 2524 &  676 &  516 & 2240 & 2360 &  533\\\\\n",
       "\tTNMD &    0 &    0 &    0 &    0 &    0 &    0 &    5 &    0 &    6 &    0 & ⋯ &    8 &    2 &    0 &    0 &    0 &    0 &    3 &    0 &    0 &    6\\\\\n",
       "\tDPM1 & 2241 & 2550 & 2115 & 2147 & 2045 & 2060 & 2841 & 2304 & 2084 & 1656 & ⋯ & 1831 & 1745 & 1381 & 1267 & 2376 & 1349 & 1259 & 1780 & 2324 & 2115\\\\\n",
       "\tSCYL3 &  166 &  335 &  220 &  206 &  213 &  158 &  216 &  257 &  199 &  213 & ⋯ &  257 &  113 &  131 &  187 &  337 &   99 &   86 &  161 &  260 &  147\\\\\n",
       "\tC1orf112 &  109 &  156 &   79 &   96 &   87 &   83 &  192 &  143 &  114 &   92 & ⋯ &  149 &   57 &   84 &   46 &  139 &   81 &   50 &   93 &  161 &  102\\\\\n",
       "\tFGR & 4156 & 7445 & 5172 & 5832 & 5423 & 1711 & 1891 & 1725 & 4236 & 3988 & ⋯ & 2391 &  720 & 1169 & 1301 & 5136 &  987 & 1849 & 1080 & 1732 & 3557\\\\\n",
       "\\end{tabular}\n"
      ],
      "text/markdown": [
       "\n",
       "A data.frame: 6 × 205\n",
       "\n",
       "| <!--/--> | control_1089 &lt;int&gt; | control_1092 &lt;int&gt; | control_1096 &lt;int&gt; | control_1097 &lt;int&gt; | control_1102 &lt;int&gt; | control_1109 &lt;int&gt; | control_1111 &lt;int&gt; | control_1112 &lt;int&gt; | control_1113 &lt;int&gt; | control_256 &lt;int&gt; | ⋯ ⋯ | ipf_926 &lt;int&gt; | ipf_938 &lt;int&gt; | ipf_940 &lt;int&gt; | ipf_954 &lt;int&gt; | ipf_965 &lt;int&gt; | ipf_990 &lt;int&gt; | ipf_992 &lt;int&gt; | ipf_994 &lt;int&gt; | ipf_997 &lt;int&gt; | ipf_998 &lt;int&gt; |\n",
       "|---|---|---|---|---|---|---|---|---|---|---|---|---|---|---|---|---|---|---|---|---|---|\n",
       "| TSPAN6 |  811 |  707 |  566 | 1338 |  577 |  655 | 1028 |  780 | 1092 |  767 | ⋯ | 1110 | 1197 |  910 |  516 | 2524 |  676 |  516 | 2240 | 2360 |  533 |\n",
       "| TNMD |    0 |    0 |    0 |    0 |    0 |    0 |    5 |    0 |    6 |    0 | ⋯ |    8 |    2 |    0 |    0 |    0 |    0 |    3 |    0 |    0 |    6 |\n",
       "| DPM1 | 2241 | 2550 | 2115 | 2147 | 2045 | 2060 | 2841 | 2304 | 2084 | 1656 | ⋯ | 1831 | 1745 | 1381 | 1267 | 2376 | 1349 | 1259 | 1780 | 2324 | 2115 |\n",
       "| SCYL3 |  166 |  335 |  220 |  206 |  213 |  158 |  216 |  257 |  199 |  213 | ⋯ |  257 |  113 |  131 |  187 |  337 |   99 |   86 |  161 |  260 |  147 |\n",
       "| C1orf112 |  109 |  156 |   79 |   96 |   87 |   83 |  192 |  143 |  114 |   92 | ⋯ |  149 |   57 |   84 |   46 |  139 |   81 |   50 |   93 |  161 |  102 |\n",
       "| FGR | 4156 | 7445 | 5172 | 5832 | 5423 | 1711 | 1891 | 1725 | 4236 | 3988 | ⋯ | 2391 |  720 | 1169 | 1301 | 5136 |  987 | 1849 | 1080 | 1732 | 3557 |\n",
       "\n"
      ],
      "text/plain": [
       "         control_1089 control_1092 control_1096 control_1097 control_1102\n",
       "TSPAN6    811          707          566         1338          577        \n",
       "TNMD        0            0            0            0            0        \n",
       "DPM1     2241         2550         2115         2147         2045        \n",
       "SCYL3     166          335          220          206          213        \n",
       "C1orf112  109          156           79           96           87        \n",
       "FGR      4156         7445         5172         5832         5423        \n",
       "         control_1109 control_1111 control_1112 control_1113 control_256 ⋯\n",
       "TSPAN6    655         1028          780         1092          767        ⋯\n",
       "TNMD        0            5            0            6            0        ⋯\n",
       "DPM1     2060         2841         2304         2084         1656        ⋯\n",
       "SCYL3     158          216          257          199          213        ⋯\n",
       "C1orf112   83          192          143          114           92        ⋯\n",
       "FGR      1711         1891         1725         4236         3988        ⋯\n",
       "         ipf_926 ipf_938 ipf_940 ipf_954 ipf_965 ipf_990 ipf_992 ipf_994\n",
       "TSPAN6   1110    1197     910     516    2524     676     516    2240   \n",
       "TNMD        8       2       0       0       0       0       3       0   \n",
       "DPM1     1831    1745    1381    1267    2376    1349    1259    1780   \n",
       "SCYL3     257     113     131     187     337      99      86     161   \n",
       "C1orf112  149      57      84      46     139      81      50      93   \n",
       "FGR      2391     720    1169    1301    5136     987    1849    1080   \n",
       "         ipf_997 ipf_998\n",
       "TSPAN6   2360     533   \n",
       "TNMD        0       6   \n",
       "DPM1     2324    2115   \n",
       "SCYL3     260     147   \n",
       "C1orf112  161     102   \n",
       "FGR      1732    3557   "
      ]
     },
     "metadata": {},
     "output_type": "display_data"
    }
   ],
   "source": [
    "outfile = \"/storage/homefs/pd21v747/RNASeqReplicability/data/test/test.csv\"\n",
    "design_file <- \"../data/GSEPN/GIPF/GIPF.meta.csv\"\n",
    "x = read.csv(\"../data/GSEPN/GIPF/GIPF.csv\", row.names=1)\n",
    "print(dim(x))\n",
    "head(x)"
   ]
  },
  {
   "cell_type": "code",
   "execution_count": 15,
   "id": "636486b7-0ed5-45ee-821b-f53bf7394562",
   "metadata": {},
   "outputs": [
    {
     "name": "stdout",
     "output_type": "stream",
     "text": [
      "[1] \"Constructing design matrix from df\"\n",
      "[1] \"Warning: hard-coded col names in design matrix\"\n",
      "[1] 205\n",
      "[1] 205\n",
      "[1] \"Saved gof in /storage/homefs/pd21v747/RNASeqReplicability/data/test/gof.test.csv\"\n"
     ]
    }
   ],
   "source": [
    "# Unpaired, controlled\n",
    "\n",
    "run_edgeR(x, outfile, design_file, overwrite=TRUE, filter_expr=FALSE, top_tags = \"Inf\", \n",
    "                      lfc=0, cols_to_keep=\"all\", test=\"qlf\", meta_only=FALSE, check_gof=TRUE) "
   ]
  },
  {
   "cell_type": "code",
   "execution_count": 88,
   "id": "7a76f4d0-0f05-4e7c-8882-521c26decacd",
   "metadata": {},
   "outputs": [
    {
     "name": "stdout",
     "output_type": "stream",
     "text": [
      "[1] 205\n",
      "[1] 205\n"
     ]
    }
   ],
   "source": [
    "# Unpaired, uncontrolled\n",
    "\n",
    "outfile2 = \"/storage/homefs/pd21v747/RNASeqReplicability/data/test/test_unpaired.csv\"\n",
    "N_control <- sum(startsWith(colnames(x), \"control\"))\n",
    "N_treat <- sum(startsWith(colnames(x), \"ipf\"))\n",
    "\n",
    "run_edgeR(x, outfile2, design=\"unpaired\", overwrite=TRUE, filter_expr=FALSE, top_tags = \"Inf\", \n",
    "                      lfc=0, cols_to_keep=\"all\", test=\"qlf\", meta_only=FALSE, check_gof=FALSE, N_control=N_control,N_treat=N_treat) "
   ]
  },
  {
   "cell_type": "code",
   "execution_count": 90,
   "id": "7f8fad44-a4bd-4957-9113-a61f8659a820",
   "metadata": {},
   "outputs": [
    {
     "name": "stdout",
     "output_type": "stream",
     "text": [
      "[1] \"Constructing design matrix from df\"\n",
      "[1] 205\n",
      "[1] 205\n"
     ]
    }
   ],
   "source": [
    "outfile3 = \"/storage/homefs/pd21v747/RNASeqReplicability/data/test/test_treat.csv\"\n",
    "run_edgeR(x, outfile3, design=design_file, overwrite=TRUE, filter_expr=FALSE, top_tags = \"Inf\",\n",
    "                      lfc=1, cols_to_keep=\"all\", test=\"qlf\", meta_only=FALSE, check_gof=FALSE) "
   ]
  },
  {
   "cell_type": "code",
   "execution_count": 5,
   "id": "b86ada99-c447-415d-aa47-1d81871dd9c5",
   "metadata": {},
   "outputs": [],
   "source": [
    "save_table <- function(table, outfile) {\n",
    "    suppressPackageStartupMessages(require(\"feather\"))\n",
    "    outfile_ext <- strsplit(basename(outfile), split=\"\\\\.\")[[1]]\n",
    "    outfile_ext <- outfile_ext[length(outfile_ext)]\n",
    "    if (outfile_ext == \"feather\") {\n",
    "        table = as.data.frame(table)\n",
    "        table$Row = row.names(table)\n",
    "        write_feather(table, outfile)  \n",
    "    }\n",
    "    else {\n",
    "        write.csv(table, outfile, row.names = TRUE)\n",
    "    }\n",
    "}"
   ]
  },
  {
   "cell_type": "code",
   "execution_count": 14,
   "id": "04c60748-40b3-4002-93bb-eb6f2ead5a5f",
   "metadata": {},
   "outputs": [],
   "source": [
    "run_edgeR <- function(x, outfile, design, overwrite=FALSE, filter_expr=FALSE, top_tags = \"Inf\", \n",
    "                      lfc=0, cols_to_keep=\"all\", test=\"qlf\", meta_only=FALSE, check_gof=FALSE, N_control=0, N_treat=0) {\n",
    "\n",
    "    suppressPackageStartupMessages(require(\"edgeR\"))\n",
    "    suppressPackageStartupMessages(require(\"limma\"))\n",
    "    \n",
    "    # Check if files already exist\n",
    "    if (!overwrite && file.exists(outfile)) {\n",
    "        print(\"Existing table not overwritten\")\n",
    "        return()\n",
    "    }\n",
    "\n",
    "    if (design == \"paired\") {\n",
    "        if (ncol(x)%%2 != 0) {stop(\"Paired-design matrix must have even number of columns\")}\n",
    "        N <- ncol(x)/2\n",
    "        patient <- factor(c(seq(N),seq(N)))\n",
    "        condition <- factor(c(rep(\"N\",N),rep(\"T\",N))) # normal vs tumor (control vs treatment)\n",
    "        design <- model.matrix(~patient+condition)\n",
    "    } else if (design==\"unpaired\") {\n",
    "        if (N_control == 0) {stop(\"Design matrix has no control columns\")}\n",
    "        if (N_treat == 0) {stop(\"Design matrix has no treatment/condition columns\")}\n",
    "        condition <- factor(c(rep(\"N\",N_control),rep(\"T\",N_treat)))\n",
    "        design <- model.matrix(~condition)\n",
    "    } else if (grepl(\"\\\\.csv$\", design, ignore.case = TRUE)) {\n",
    "        \n",
    "        print(\"Constructing design matrix from df\")\n",
    "        covariate_df = read.csv(design)\n",
    "        if (!(\"Condition\" %in% colnames(covariate_df))) {stop(\"Error: 'Condition' column not found in dataframe\")}\n",
    "        \n",
    "        covariate_df <- covariate_df %>%\n",
    "          mutate_if(is.character, as.factor)\n",
    "        \n",
    "        other_vars <- setdiff(names(covariate_df), c(\"Condition\", \"X\", \"Sample\"))\n",
    "        print(\"Warning: hard-coded col names in design matrix\")\n",
    "        formula <- as.formula(paste(\"~\", paste(c(other_vars, \"Condition\"), collapse = \" + \")))\n",
    "        design <- model.matrix(formula, data = covariate_df)\n",
    "    }\n",
    "    \n",
    "    y <- DGEList(counts=x)\n",
    "\n",
    "    print(length(rownames(design)))\n",
    "    print(length(colnames(y)))\n",
    "    rownames(design) <- colnames(y)\n",
    "\n",
    "    if (filter_expr) {\n",
    "        keep <- filterByExpr(y, design=design)\n",
    "        y <- y[keep,,keep.lib.sizes=FALSE]\n",
    "    }\n",
    "\n",
    "    y <- calcNormFactors(y)\n",
    "    y <- estimateDisp(y, design, robust=TRUE)\n",
    "    \n",
    "    if (meta_only)\n",
    "        return(y)\n",
    "    \n",
    "    if (test==\"lrt\") fit <- glmFit(y,design)\n",
    "    else fit <- glmQLFit(y,design)\n",
    "    \n",
    "    # Goodness-of-fit\n",
    "    if (check_gof) {\n",
    "        res.gof <- gof(fit, plot=FALSE)\n",
    "        file_name <- basename(outfile)\n",
    "        new_file_name <- paste0(\"gof.\", file_name)\n",
    "        new_file_path <- file.path(dirname(outfile), new_file_name)\n",
    "        save_table(res.gof$gof.pvalues, new_file_path)\n",
    "        print(paste(\"Saved gof in\", new_file_path))\n",
    "    }\n",
    "\n",
    "    if (lfc>0) result <- glmTreat(fit, lfc=lfc)\n",
    "    else if (test==\"lrt\") result <- glmLRT(fit)\n",
    "    else result <- glmQLFTest(fit) # omit coef (edgeR user's guide p. 39)\n",
    "\n",
    "    table = topTags(result, n = top_tags) #adjust.method=\"BH\"\n",
    "    \n",
    "    if (any(cols_to_keep != \"all\")) {\n",
    "        if (typeof(cols_to_keep)==\"list\") cols_to_keep = unlist(cols_to_keep)\n",
    "        table <- table[ , cols_to_keep]\n",
    "    }\n",
    "    save_table(table, outfile)\n",
    "}"
   ]
  },
  {
   "cell_type": "code",
   "execution_count": null,
   "id": "309668d3-ae72-4b4f-b820-a8bddca049a7",
   "metadata": {},
   "outputs": [],
   "source": []
  }
 ],
 "metadata": {
  "kernelspec": {
   "display_name": "R",
   "language": "R",
   "name": "ir"
  },
  "language_info": {
   "codemirror_mode": "r",
   "file_extension": ".r",
   "mimetype": "text/x-r-source",
   "name": "R",
   "pygments_lexer": "r",
   "version": "4.1.0"
  }
 },
 "nbformat": 4,
 "nbformat_minor": 5
}
