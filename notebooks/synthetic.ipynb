{
 "cells": [
  {
   "cell_type": "markdown",
   "id": "f5714261-dcbd-4086-b229-714dbe4f80fe",
   "metadata": {},
   "source": [
    "# Synthetic data\n",
    "\n",
    "https://dcgerard.github.io/seqgendiff/index.html"
   ]
  },
  {
   "cell_type": "code",
   "execution_count": null,
   "id": "b767f96f-9d1d-419a-bf55-b0b9a4bf53d9",
   "metadata": {},
   "outputs": [],
   "source": [
    "import os, sys\n",
    "import pandas as pd\n",
    "from pathlib import Path\n",
    "\n",
    "modpath = Path(\"../scripts\")\n",
    "sys.path.append(os.path.relpath(modpath))\n",
    "\n",
    "%load_ext rpy2.ipython"
   ]
  },
  {
   "cell_type": "code",
   "execution_count": null,
   "id": "dd57e32a-0023-4a05-adea-0f4d744bb398",
   "metadata": {},
   "outputs": [],
   "source": [
    "%%R\n",
    "\n",
    "source(\"../.Rprofile\")\n",
    ".libPaths()"
   ]
  },
  {
   "cell_type": "code",
   "execution_count": null,
   "id": "c04b024d-efe6-4013-9622-afa3df9876cd",
   "metadata": {},
   "outputs": [],
   "source": [
    "%%R\n",
    "\n",
    "library(seqgendiff)\n",
    "library(sva)\n",
    "library(DESeq2)"
   ]
  },
  {
   "cell_type": "code",
   "execution_count": null,
   "id": "55023c81-d1d0-4c0c-b210-465cdfdabbba",
   "metadata": {},
   "outputs": [],
   "source": [
    "prop_null = 0.9 # proportion of null genes"
   ]
  },
  {
   "cell_type": "code",
   "execution_count": null,
   "id": "f519856f-43b6-4d56-97b4-014ca549f6c1",
   "metadata": {},
   "outputs": [],
   "source": [
    "%%R\n",
    "\n",
    "counts <- read.csv(\"/storage/homefs/pd21v747/RNASeqReplicability/data/breast/BRCA/BRCA.csv\", row.names=1)\n",
    "\n",
    "# Subset to first 50 normal tissue samples\n",
    "N <- ncol(counts)/2\n",
    "stopifnot(N>=50)\n",
    "counts <- counts[, 1:50]\n",
    "ncol(counts)"
   ]
  },
  {
   "cell_type": "code",
   "execution_count": null,
   "id": "e53272e2-c2ee-4595-8a17-976d43ea7d33",
   "metadata": {},
   "outputs": [],
   "source": [
    "%%R -i prop_null\n",
    "\n",
    "thout <- thin_2group(mat = data.matrix(counts), \n",
    "                     prop_null = prop_null, \n",
    "                     signal_fun = stats::rnorm,\n",
    "                     signal_params = list(mean = 0, sd = 0.8))\n",
    "\n",
    "# X <- cbind(thout$design_obs, thout$designmat)\n",
    "# Y <- log2(thout$mat + 0.5)\n",
    "# n_sv <- num.sv(dat = Y, mod = X)\n",
    "# svout <- sva(dat = Y, mod = X, n.sv = n_sv)"
   ]
  },
  {
   "cell_type": "code",
   "execution_count": null,
   "id": "0bc64a3e-1445-42ff-b380-dd6dbe1d298f",
   "metadata": {},
   "outputs": [],
   "source": [
    "%%R\n",
    "\n",
    "# Ground truth\n",
    "head(thout$coefmat, 10)"
   ]
  },
  {
   "cell_type": "code",
   "execution_count": null,
   "id": "884fad32-0b4e-4e85-96a5-26fe30342780",
   "metadata": {},
   "outputs": [],
   "source": [
    "%%R\n",
    "\n",
    "thout_mat <- thout$mat\n",
    "designmat <- thout$designmat\n",
    "class0 <- which(thout$designmat == 0)\n",
    "class1 <- which(thout$designmat == 1)\n",
    "c0 <- thout_mat[, class0]\n",
    "c1 <- thout_mat[, class1]\n",
    "thout_mat <- cbind(c0, c1)\n",
    "write.csv(thout_mat, \"../data/test/thout.csv\", col.names = TRUE, row.names = TRUE, quote = FALSE)"
   ]
  },
  {
   "cell_type": "markdown",
   "id": "dbd16b6e-5b2c-4c13-ba03-948f835d0547",
   "metadata": {},
   "source": [
    "## Differential expression test"
   ]
  },
  {
   "cell_type": "code",
   "execution_count": null,
   "id": "1086f68e-f022-421e-8309-3f1c4d6aeed5",
   "metadata": {},
   "outputs": [],
   "source": [
    "thout = pd.read_csv(\"../data/test/thout.csv\", index_col=0)\n",
    "N = len(thout.columns)//2\n",
    "thout.columns = [f\"N{i}\" for i in range(1,1+N)] + [f\"T{i}\" for i in range(1,1+N)]\n",
    "thout.head()"
   ]
  },
  {
   "cell_type": "code",
   "execution_count": null,
   "id": "bc121def-27ba-4e41-9fff-801f38f1ca93",
   "metadata": {},
   "outputs": [],
   "source": [
    "from DEA import run_dea\n",
    "\n",
    "edgerqlf_kwargs = {\"filter_expr\": False, \"cols_to_keep\": [\"logFC\",\"logCPM\",\"FDR\"], \"lfc\": 0, \"design\": \"unpaired\",\n",
    "                   \"check_gof\": False, \"verbose\": False}\n",
    "\n",
    "outfile = \"../data/test/thout.qlf.csv\"\n",
    "run_dea(thout, outfile, \"edgerqlf\", True, **edgerqlf_kwargs)"
   ]
  },
  {
   "cell_type": "code",
   "execution_count": null,
   "id": "76396798-b805-4c6a-a877-dd3e7decc5a8",
   "metadata": {},
   "outputs": [],
   "source": [
    "tab = pd.read_csv(outfile, index_col=0)\n",
    "\n",
    "len(tab)*(1-prop_null), len(tab[tab[\"FDR\"]<0.05]), len(tab)"
   ]
  },
  {
   "cell_type": "markdown",
   "id": "2eaca200-5a75-4829-ba02-b7ab2d208e91",
   "metadata": {},
   "source": [
    "# Semi-synthetic data\n",
    "\n",
    "Create semi-synthetic data by merging real data and susbampling DEGs and non-DEGs."
   ]
  },
  {
   "cell_type": "code",
   "execution_count": null,
   "id": "da0a17c3-4d7c-4eac-bf15-1e34891fc06f",
   "metadata": {},
   "outputs": [],
   "source": [
    "import io\n",
    "import os\n",
    "import sys\n",
    "import pandas as pd\n",
    "import numpy as np\n",
    "import matplotlib.pyplot as plt\n",
    "import seaborn as sns\n",
    "from pathlib import Path\n",
    "\n",
    "datapath = Path(\"../data\")"
   ]
  },
  {
   "cell_type": "code",
   "execution_count": null,
   "id": "816890ff-cbd7-415d-a61a-480b00d6634b",
   "metadata": {},
   "outputs": [],
   "source": [
    "# 8 cancer types for main results\n",
    "sites = {\"liver\": \"LIHC\",\n",
    "         \"thyroid\": \"THCA\",\n",
    "         \"lung\": \"LUAD\",\n",
    "         \"lung2\": \"LUSC\",\n",
    "         \"kidney\": \"KIRC\",\n",
    "         \"colorectal\": \"COAD\",\n",
    "         \"breast\": \"BRCA\",\n",
    "         \"prostate\": \"PRAD\"}"
   ]
  },
  {
   "cell_type": "code",
   "execution_count": null,
   "id": "7a268f06-8d6b-4fe6-946b-c139dd520ef6",
   "metadata": {},
   "outputs": [],
   "source": [
    "counts_list = []\n",
    "for s in sites:\n",
    "    #if s != \"breast\": continue\n",
    "    f = Path(f\"{datapath}/{s}/{sites[s]}/{sites[s]}.csv\")\n",
    "    counts = pd.read_csv(f, index_col=0)\n",
    "    \n",
    "    N = len(counts.columns) // 2\n",
    "    if N < 50: \n",
    "        print(f\"{s} has < 50 replicates, skipping\")\n",
    "        continue\n",
    "\n",
    "    # Subset to first 50 replicates\n",
    "    counts = counts.iloc[:, list(range(50)) + list(range(N,N+50))]\n",
    "    counts.columns = [f\"N{i}\" for i in range(1,51)] + [f\"T{i}\" for i in range(1,51)]\n",
    "\n",
    "    # Find ground truth\n",
    "    f = Path(f\"{datapath}/{s}/{sites[s]}/truth.fdr0.01.post_lfc1.lfc1.csv\")\n",
    "    truth = pd.read_csv(f, index_col=0)\n",
    "    counts[\"isDEG\"] = False\n",
    "    counts.loc[truth.index,\"isDEG\"] = True\n",
    "\n",
    "    # Append\n",
    "    counts_list.append(counts)\n",
    "\n",
    "counts = pd.concat(counts_list, axis=0)\n",
    "counts.reset_index(drop=True, inplace=True)"
   ]
  }
 ],
 "metadata": {
  "kernelspec": {
   "display_name": "Python (scanpy)",
   "language": "python",
   "name": "scanpy"
  },
  "language_info": {
   "codemirror_mode": {
    "name": "ipython",
    "version": 3
   },
   "file_extension": ".py",
   "mimetype": "text/x-python",
   "name": "python",
   "nbconvert_exporter": "python",
   "pygments_lexer": "ipython3",
   "version": "3.12.3"
  }
 },
 "nbformat": 4,
 "nbformat_minor": 5
}
