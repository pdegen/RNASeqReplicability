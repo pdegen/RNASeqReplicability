{
 "cells": [
  {
   "cell_type": "code",
   "execution_count": null,
   "id": "4b94eb34-1f95-4486-acdd-6ea5922a1a3f",
   "metadata": {},
   "outputs": [],
   "source": [
    "%matplotlib inline\n",
    "import sys \n",
    "import os\n",
    "import glob\n",
    "import numpy as np\n",
    "import pandas as pd\n",
    "import matplotlib.pyplot as plt\n",
    "import seaborn as sns; sns.set()\n",
    "import random\n",
    "import pickle\n",
    "from pathlib import Path\n",
    "from itertools import product\n",
    "\n",
    "import warnings\n",
    "warnings.simplefilter(action='ignore', category=FutureWarning)\n",
    "\n",
    "modpath = \"../scripts\"\n",
    "sys.path.append(os.path.abspath(modpath))\n",
    "\n",
    "from misc import pickler, open_table\n",
    "import plot_utils"
   ]
  },
  {
   "cell_type": "code",
   "execution_count": null,
   "id": "75869350-76d6-412f-8710-9787f68e7955",
   "metadata": {},
   "outputs": [],
   "source": [
    "DEAs = [\"edgerlrt\", \"edger\", \"deseq2\"]\n",
    "outlier_methods = [\"none\",\"jk\",\"pcah\"]\n",
    "all_N = [3,4,5,6,7,8,9,10,12,15]\n",
    "\n",
    "# pretty names\n",
    "prdea = {\"edgerlrt\":\"edgeR LRT\",\"edger\":\"edgeR QLF\",\"deseq2\":\"DESeq2 Wald\"}\n",
    "prout = {\"none\":\"None\",\"jk\":\"Jackknife\",\"pcah\":\"rPCA\"}"
   ]
  },
  {
   "cell_type": "code",
   "execution_count": null,
   "id": "1c761b67-0033-472a-a1e4-8709e75e2979",
   "metadata": {},
   "outputs": [],
   "source": [
    "from misc import Timer\n",
    "with Timer(name=\"context manager\"):\n",
    "    pass"
   ]
  },
  {
   "cell_type": "markdown",
   "id": "fda60ed8-e9db-4933-93bb-9a50c7207e7a",
   "metadata": {},
   "source": [
    "# Effect size inflation vs FDR \n",
    "\n",
    "Reviewer 1 comment: \n",
    "\n",
    "\"It seems counterintuitive that, in small cohorts, the effect estimates are inflated (Fig. 5), but this doesn’t inflate the false positive rate (Fig. 2). Can you explain this? Is it that the effects are high variance but still unbiased? Perhaps you can find a way to simultaneously visualize effect sizes and whether they eventually lead to false positives.\""
   ]
  },
  {
   "cell_type": "code",
   "execution_count": null,
   "id": "5e4c71bc-d4b7-4806-8320-e34e1097c247",
   "metadata": {},
   "outputs": [],
   "source": [
    "from misc import open_table, get_grid_size\n",
    "from process import gene_rep\n",
    "\n",
    "datapath = \"/storage/homefs/pd21v747/datanew\"\n",
    "\n",
    "def gene_reps_all_N(all_N,site,data,out,dea,FDR,logFC,param_set):\n",
    "    gene_reps = {N: None for N in all_N}\n",
    "    for N in all_N:\n",
    "        tab = open_table(f\"{datapath}/{site}/{data}/{data}_N{N}/all.FDR.{out}.{dea}.{param_set}\")\n",
    "        tablfc = open_table(f\"{datapath}/{site}/{data}/{data}_N{N}/all.logFC.{out}.{dea}.{param_set}\")\n",
    "        gene_reps[N] = gene_rep(tab, logFC_tab=tablfc, FDR=FDR, logFC=logFC, normalize=True)\n",
    "    return gene_reps\n",
    "\n",
    "\n",
    "def get_truth_logFC(param_set, n_cohorts):\n",
    "    \n",
    "    logFC_test = 0 if param_set == \"p1\" else 1\n",
    "    \n",
    "    truth_logFC = {data: {dea: {N: {\"RMSE\":[], \"logFC\":[], \"Error\": []} for N in all_N_sub} | {\"small_N_deg_logFC\":[],\"small_N_deg_logFC_truth\":[]} for dea in DEAs} for data in datasets if \"syn_hom\" not in data}\n",
    "\n",
    "    for data in truth_logFC:\n",
    "        \n",
    "        print(data)\n",
    "        \n",
    "        for dea in [\"deseq2\", \"edgerlrt\"]:\n",
    "            \n",
    "            path = datasets[data]['datapath'].split(f'/{data}.csv')[0]\n",
    "            f = f\"{path}/{data}.{dea}.lfc{logFC_test}.csv\"\n",
    "            truth_df=pd.read_csv(f, index_col=0, usecols=[\"Unnamed: 0\",\"logFC\"])\n",
    "            logFC_truth = truth_df[\"logFC\"]\n",
    "            truth_logFC[data][dea][\"truth\"] = logFC_truth\n",
    "            small_N_deg = []\n",
    "            \n",
    "            for N in all_N_sub:\n",
    "                \n",
    "                path_N = f\"{path}/{data}_N{N}\"\n",
    "                cohorts = sorted([f.path for f in os.scandir(path_N) if f.is_dir()])\n",
    "\n",
    "                for cohort in cohorts[:n_cohorts]:\n",
    "                    \n",
    "                    f = f\"{cohort}/tab.{out}.{dea}.{param_set}\"\n",
    "                    tab_cohort = open_table(f)\n",
    "\n",
    "                    logFC_cohort = tab_cohort[\"logFC\"]\n",
    "                    \n",
    "                    if cohort == cohorts[0]: \n",
    "                        common = logFC_cohort.index.intersection(logFC_truth.index)\n",
    "                    tab_cohort = tab_cohort.loc[common]\n",
    "\n",
    "                    if N == all_N_sub[0]:\n",
    "                        DEG = tab_cohort[(tab_cohort[\"FDR\"]<FDR) & (tab_cohort[\"logFC\"].abs()>logFC)]\n",
    "                        truth_logFC[data][dea][\"small_N_deg_logFC\"] += DEG[\"logFC\"].values.tolist()\n",
    "                        small_N_deg = DEG.index\n",
    "\n",
    "                    logFC_cohort = tab_cohort[\"logFC\"]\n",
    "                    rmse = np.sqrt(np.mean((logFC_truth.loc[common].values.flatten()-logFC_cohort.values)**2))\n",
    "                    truth_logFC[data][dea][N][\"RMSE\"].append(rmse)\n",
    "                    truth_logFC[data][dea][N][\"Error\"] += (logFC_truth.loc[common].values.flatten()-logFC_cohort.values).tolist()\n",
    "                    truth_logFC[data][dea][N][\"logFC\"] += logFC_cohort.tolist()\n",
    "\n",
    "            truth_logFC[data][dea][\"small_N_deg_logFC_truth\"] += logFC_truth.loc[small_N_deg].values.tolist()\n",
    "            \n",
    "    return truth_logFC\n",
    "\n",
    "# don't forget: deseq2 does not show logCPM but counts"
   ]
  },
  {
   "cell_type": "code",
   "execution_count": null,
   "id": "a5ef183e-399b-43bf-b885-0bec95485951",
   "metadata": {},
   "outputs": [],
   "source": [
    "datasetsfile = \"/storage/homefs/pd21v747/datanew/multi/datasets.txt\"\n",
    "with open(datasetsfile, \"rb\") as f:\n",
    "    datasets = pickle.load(f)"
   ]
  },
  {
   "cell_type": "code",
   "execution_count": null,
   "id": "8c7ccc66-e45e-4e6c-ad08-01f3b9ed23db",
   "metadata": {},
   "outputs": [],
   "source": [
    "data = \"BRCA\"\n",
    "dea = \"deseq2\"\n",
    "out = \"none\"\n",
    "N = 3\n",
    "\n",
    "# not FC estimate is not affected by this\n",
    "paramset = \"p1\" # no FC cutoff\n",
    "#paramset = \"p2\" # formal\n",
    "\n",
    "site = datasets[data][\"site\"]\n",
    "p = f\"/storage/homefs/pd21v747/datanew/{site}/{data}/{data}_N{N}/all.logFC.{out}.{dea}.{paramset}\"\n",
    "tab = open_table(p)\n",
    "\n",
    "p = f\"/storage/homefs/pd21v747/datanew/{site}/{data}/{data}_N{N}/all.FDR.{out}.{dea}.{paramset}\"\n",
    "tab_fdr = open_table(p)\n",
    "\n",
    "mean_lfc = tab.median(axis=1).sort_values(ascending=False)\n",
    "x = range(len(mean_lfc))\n",
    "\n",
    "print(len(tab))\n",
    "tab.head()"
   ]
  },
  {
   "cell_type": "code",
   "execution_count": null,
   "id": "5c2da5d4-c75e-4676-a00d-fa4b4d1d4385",
   "metadata": {},
   "outputs": [],
   "source": [
    "# not really a confidence interval\n",
    "CI = 0.5\n",
    "up_lim = (1+CI)/2\n",
    "low_lim = (1-CI)/2\n",
    "cutoff = 1\n",
    "\n",
    "#std_lfc = tab.std(axis=1).loc[mean_lfc.index]\n",
    "up = tab.quantile(up_lim,axis=1).loc[mean_lfc.index]\n",
    "low = tab.quantile(low_lim,axis=1).loc[mean_lfc.index]\n",
    "\n",
    "crossing = mean_lfc[ ((up>-cutoff) & (low<-cutoff)) | ((up>cutoff) & (low<cutoff)) ]\n",
    "cross_ind = np.array(x)[mean_lfc.index.isin(crossing.index)]\n",
    "\n",
    "mean_pass_cutoff = mean_lfc[mean_lfc.abs()>cutoff]"
   ]
  },
  {
   "cell_type": "code",
   "execution_count": null,
   "id": "19229760-b05f-4a0e-b488-d600773e7e8d",
   "metadata": {},
   "outputs": [],
   "source": [
    "fig, ax = plt.subplots(1,1,figsize=(20,10))\n",
    "#ax.plot(x, mean_lfc,lw=4,label=\"Mean\")\n",
    "ax.scatter(x, mean_lfc,label=\"Mean\")\n",
    "ax.scatter(cross_ind, crossing, label=f\"# Crossing: {len(crossing)} ({len(crossing)/len(x):.2%})\")\n",
    "ax.axhline(cutoff,ls=\"--\",c=\"red\",label=f\"Cutoff = {cutoff}\")\n",
    "ax.axhline(-cutoff,ls=\"--\",c=\"red\")\n",
    "ax.fill_between(x, up, low, edgecolor=\"none\",color=\"grey\",alpha=0.5,label=f\"{CI:.0%} IQR\")\n",
    "#ax.fill_between(cross_ind, up.iloc[cross_ind], low.iloc[cross_ind], edgecolor=\"none\",color=\"pink\",alpha=0.5,label=\"Crossing\")\n",
    "ax.set_xlabel(\"Gene Rank\")\n",
    "ax.set_ylabel(r\"log$_2$FC\")\n",
    "ax.set_title(f\"|Mean|>{cutoff} = {len(mean_pass_cutoff)}\")\n",
    "ax.legend(framealpha=1,title=f\"{data} N{N} {prdea[dea]} Out: {prout[out]}\",title_fontsize=16)\n",
    "#ax.set_xlim(8360,8400)"
   ]
  },
  {
   "cell_type": "code",
   "execution_count": null,
   "id": "91811aea-597c-48a3-97cb-f0128f2b2e0b",
   "metadata": {},
   "outputs": [],
   "source": [
    "fig, ax = plt.subplots(1,1,figsize=(16,8))\n",
    "\n",
    "fdr_thresh = 0.05\n",
    "cohort = 2\n",
    "\n",
    "## Post hoc thresholding\n",
    "tab_cohort =  tab.iloc[:,cohort-1].loc[mean_lfc.index]\n",
    "tab_cohort_fdr =  tab_fdr.iloc[:,cohort-1].loc[mean_lfc.index]\n",
    "\n",
    "if (tab_cohort_fdr.isna().sum()):\n",
    "    tab_cohort_fdr = tab_cohort_fdr.fillna(1)\n",
    "    \n",
    "mask = (tab_cohort.abs() >= 1) & (mean_lfc.abs()<1) & (tab_cohort_fdr<fdr_thresh)\n",
    "tab_cohort_FP = tab_cohort[mask]\n",
    "x_FP = np.array(x)[mask]\n",
    "\n",
    "mask = (tab_cohort.abs() >= 1) & (mean_lfc.abs()>=1) & (tab_cohort_fdr<fdr_thresh)\n",
    "tab_cohort_TP = tab_cohort[mask]\n",
    "x_TP = np.array(x)[mask]\n",
    "\n",
    "mask = (mean_lfc.abs()>=1) & (tab_cohort_fdr>=fdr_thresh)\n",
    "tab_cohort_FN = tab_cohort[mask]\n",
    "x_FN = np.array(x)[mask]\n",
    "\n",
    "mask = (mean_lfc.abs()<1) & (tab_cohort_fdr>=fdr_thresh)\n",
    "tab_cohort_TN = tab_cohort[mask]\n",
    "x_TN = np.array(x)[mask]\n",
    "\n",
    "assert len(x_TP) + len(x_FP) + len(x_FN) + len(x_TN) == len(x)\n",
    "\n",
    "#ax.plot(x, mean_lfc,lw=4,label=\"Mean\")\n",
    "ax.scatter(x_FP, tab_cohort_FP,label=f\"FP: {len(x_FP)} ({len(x_FP)/len(x):.2%})\", zorder=2)\n",
    "ax.scatter(x_TP, tab_cohort_TP,label=f\"TP: {len(x_TP)} ({len(x_TP)/len(x):.2%})\", zorder=2)\n",
    "ax.scatter(x_FN, tab_cohort_FN,label=f\"FN: {len(x_FN)} ({len(x_FN)/len(x):.2%})\", zorder=2)\n",
    "ax.scatter(x_TN, tab_cohort_TN,label=f\"TN: {len(x_TN)} ({len(x_TN)/len(x):.2%})\", zorder=2, alpha=0)\n",
    "ax.scatter(x, mean_lfc,label=\"Mean of 100 cohorts\", zorder=3, color=\"black\")\n",
    "\n",
    "#ax.scatter(cross_ind, crossing, label=f\"# Crossing: {len(crossing)} ({len(crossing)/len(x):.2%})\")\n",
    "ax.axhline(cutoff,ls=\"--\",c=\"black\",label=f\"Cutoff = {cutoff}\", zorder=9)\n",
    "ax.axhline(-cutoff,ls=\"--\",c=\"black\", zorder=9)\n",
    "\n",
    "bbox=dict(boxstyle=\"round\", fc=\"1\",ec=\"0.8\")\n",
    "prec = len(x_TP) / (len(x_TP) + len(x_FP))\n",
    "rec = len(x_TP) / (len(x_TP) + len(x_FN))\n",
    "metrics = f\"Precision: {prec:.2f}\\nRecall: {rec:.2f}\"\n",
    "ax.text(0.5, 0.95, metrics, ha='center', va='top', transform=ax.transAxes, bbox=bbox, fontsize=18, weight=\"bold\")\n",
    "\n",
    "ax.set_xlabel(\"Gene Rank\")\n",
    "ax.set_ylabel(r\"log$_2$FC\")\n",
    "ax.set_title(f\"Cohort {cohort} | abs(Mean) > {cutoff} = {len(mean_pass_cutoff)}\", fontsize=20)\n",
    "ax.legend(framealpha=1,title=f\"{data} N{N} {prdea[dea]} Out: {prout[out]}\",title_fontsize=16)\n",
    "#ax.set_xlim(8360,8400)"
   ]
  },
  {
   "cell_type": "code",
   "execution_count": null,
   "id": "8936554f-562d-4031-ab54-e34da7fe32d1",
   "metadata": {},
   "outputs": [],
   "source": [
    "tab_cohort_TP.hist(bins=10,alpha=0.5)\n",
    "mean_lfc.loc[tab_cohort_TP.index].hist(bins=10,alpha=0.5)"
   ]
  },
  {
   "cell_type": "code",
   "execution_count": null,
   "id": "6965b31c-4b91-4ea1-a848-0b9acf09603a",
   "metadata": {},
   "outputs": [],
   "source": [
    "site = datasets[data][\"site\"]\n",
    "p = f\"/storage/homefs/pd21v747/datanew/{site}/{data}/{data}.{dea}.lfc{0}\"\n",
    "tab_gt = open_table(p)\n",
    "print(len(tab_gt))\n",
    "tab_gt.head()"
   ]
  },
  {
   "cell_type": "code",
   "execution_count": null,
   "id": "ee63c73c-bea3-485e-a8b4-186acd72dc16",
   "metadata": {},
   "outputs": [],
   "source": [
    "a=tab_gt.loc[mean_lfc.index.intersection(tab_gt.index)][\"logFC\"]\n",
    "# (a-mean_lfc).hist(bins=100)\n",
    "# (a-mean_lfc).mean()\n",
    "\n",
    "plt.scatter(range(len(a)), a,label=\"Mean of 100 cohorts\", zorder=3)\n",
    "plt.scatter(x, mean_lfc,label=\"Mean of 100 cohorts\", zorder=4)"
   ]
  },
  {
   "cell_type": "markdown",
   "id": "50305565-959b-4634-9345-d8531008dd80",
   "metadata": {},
   "source": [
    "## Heteroskedasticity"
   ]
  },
  {
   "cell_type": "code",
   "execution_count": null,
   "id": "0279a7b7-bc3e-4fdc-93a0-20ad1e110203",
   "metadata": {},
   "outputs": [],
   "source": [
    "i = 1\n",
    "m = tab.abs().iloc[i].mean()\n",
    "s = tab.abs().iloc[i].std()\n",
    "tab.abs().iloc[i].hist()\n",
    "plt.axvline(m, color=\"black\")\n",
    "plt.axvline(m-s, color=\"red\")\n",
    "plt.axvline(m+s, color=\"red\")"
   ]
  },
  {
   "cell_type": "code",
   "execution_count": null,
   "id": "1dd54c55-e69f-4ead-bad7-467bb8c1aaf3",
   "metadata": {},
   "outputs": [],
   "source": [
    "CI = 0.5\n",
    "up_lim = (1+CI)/2\n",
    "low_lim = (1-CI)/2\n",
    "\n",
    "cutoff = 1\n",
    "\n",
    "mean_lfc = tab.abs().median(axis=1).sort_values(ascending=True)\n",
    "\n",
    "up = tab.abs().quantile(up_lim,axis=1).loc[mean_lfc.index]\n",
    "low = tab.abs().quantile(low_lim,axis=1).loc[mean_lfc.index]\n",
    "spread = np.array([low.values, up.values])\n",
    "\n",
    "# spread = tab.abs().std(axis=1).loc[mean_lfc.index]\n",
    "\n",
    "cutoff = 1\n",
    "\n",
    "fig, ax= plt.subplots(1,1,figsize=(7,5))\n",
    "ax.errorbar(range(len(mean_lfc)), mean_lfc, yerr=spread,zorder=1, label=f\"{CI:.0%} CI\")\n",
    "ax.scatter(range(len(mean_lfc)), mean_lfc,color=\"black\",zorder=2, label=\"Median of 100 cohorts\")\n",
    "ax.set(ylabel=r\"|log$_2$FC|\",xlabel=\"Gene rank\", title=f\"{data} N{N} {prdea[dea]}\")\n",
    "ax.axhline(cutoff,ls=\"--\",color=\"red\",label=f\"Threshold = {cutoff}\")\n",
    "ax.axvline(np.argmax(mean_lfc>1),ls=\"--\",color=\"grey\",label=f\"\")\n",
    "\n",
    "ax.legend(loc=\"upper left\")\n",
    "\n",
    "fig.tight_layout()\n",
    "figpath = f\"../figures/heteroskedasticity.png\"\n",
    "fig.savefig(figpath)"
   ]
  },
  {
   "cell_type": "code",
   "execution_count": null,
   "id": "ee39b0af-f8d2-4e1c-8b92-312c90a92d4d",
   "metadata": {},
   "outputs": [],
   "source": [
    "!pwd"
   ]
  },
  {
   "cell_type": "markdown",
   "id": "43b1227a-d66b-4161-b5e2-7799d263b0c0",
   "metadata": {},
   "source": [
    "# logFC vs Precision"
   ]
  },
  {
   "cell_type": "code",
   "execution_count": null,
   "id": "bd1df94f-272b-47f9-91a7-57cfc584258c",
   "metadata": {},
   "outputs": [],
   "source": [
    "data = \"THCA\"\n",
    "dea = \"edgerlrt\"\n",
    "out = \"none\"\n",
    "N = 3\n",
    "\n",
    "# not FC estimate is not affected by this\n",
    "paramset = \"p1\" # no FC cutoff\n",
    "paramset = \"p2\" # formal\n",
    "\n",
    "site = datasets[data][\"site\"]\n",
    "p = f\"/storage/homefs/pd21v747/datanew/{site}/{data}/{data}_N{N}/all.logFC.{out}.{dea}.{paramset}\"\n",
    "tab_lfc = open_table(p)\n",
    "\n",
    "p = f\"/storage/homefs/pd21v747/datanew/{site}/{data}/{data}_N{N}/all.FDR.{out}.{dea}.{paramset}\"\n",
    "tab_fdr = open_table(p)\n",
    "\n",
    "print(len(tab))\n",
    "tab.head()"
   ]
  },
  {
   "cell_type": "code",
   "execution_count": null,
   "id": "716efc71-3a87-4a99-90b8-dbd15e029249",
   "metadata": {},
   "outputs": [],
   "source": [
    "site = datasets[data][\"site\"]\n",
    "p = f\"/storage/homefs/pd21v747/datanew/{site}/{data}/{data}.{dea}.lfc{1 if paramset == 'p2' else 0}\"\n",
    "tab_gt = open_table(p)\n",
    "\n",
    "tab_lfc = tab_lfc.loc[tab_gt.index]\n",
    "tab_fdr = tab_fdr.loc[tab_gt.index]\n",
    "\n",
    "print(len(tab_gt))\n",
    "tab_gt.head()"
   ]
  },
  {
   "cell_type": "code",
   "execution_count": null,
   "id": "f20a3d41-98ec-4a96-8e33-0af1f0cffda6",
   "metadata": {},
   "outputs": [],
   "source": [
    "fdr = 0.05\n",
    "deg_truth = tab_gt[tab_gt[\"FDR\"]<fdr]\n",
    "len(deg_truth)"
   ]
  },
  {
   "cell_type": "code",
   "execution_count": null,
   "id": "9c30dcc8-9e2b-4fc4-8a51-f37e4bd0aaa2",
   "metadata": {},
   "outputs": [],
   "source": [
    "deg_cohorts = tab_fdr.mask(tab_fdr<fdr,1).mask(tab_fdr>=fdr,0)"
   ]
  },
  {
   "cell_type": "code",
   "execution_count": null,
   "id": "75dba5a7-be67-428d-8ce0-36e62f0abed5",
   "metadata": {},
   "outputs": [],
   "source": [
    "tab_gt[\"sig\"] = 0\n",
    "tab_gt[\"sig\"] = tab_gt[\"sig\"].where(tab_gt[\"FDR\"]>=fdr,1)\n",
    "tab_gt[\"sig\"].sum()"
   ]
  },
  {
   "cell_type": "code",
   "execution_count": null,
   "id": "1ea5e97b-cb20-4050-b628-a2434a0d1aa7",
   "metadata": {},
   "outputs": [],
   "source": [
    "from process import get_array_metrics_numba\n",
    "\n",
    "mcc, prec, rec = get_array_metrics_numba(tab_gt[\"sig\"].values, deg_cohorts.values)"
   ]
  },
  {
   "cell_type": "code",
   "execution_count": null,
   "id": "515730ed-0b87-4dac-8598-3a34fd29a869",
   "metadata": {},
   "outputs": [],
   "source": [
    "plt.scatter(deg_cohorts.sum(axis=1), tab_gt[\"logFC\"])"
   ]
  },
  {
   "cell_type": "code",
   "execution_count": null,
   "id": "4b32d154-0c9e-4679-8d4a-667d1596acd0",
   "metadata": {},
   "outputs": [],
   "source": [
    "mcc, prec, rec = get_array_metrics_numba(tab_gt[\"sig\"].values, deg_cohorts.values)"
   ]
  },
  {
   "cell_type": "code",
   "execution_count": null,
   "id": "30cd3605-6aa1-4d17-89ed-07f373b6cfe4",
   "metadata": {},
   "outputs": [],
   "source": [
    "tab_gt = tab_gt.sort_values(by=\"logFC\")\n",
    "deg_cohorts = deg_cohorts.loc[tab_gt.index]\n",
    "bins = np.linspace(tab_gt[\"logFC\"].min()-0.1, tab_gt[\"logFC\"].max()+0.1, 20)\n",
    "tab_gt['logFC_bin'] = pd.cut(tab_gt['logFC'], bins)\n",
    "\n",
    "prec_dict = {}\n",
    "for bin_val, bin_group in tab_gt.groupby('logFC_bin'):\n",
    "    mcc, prec, rec = get_array_metrics_numba(bin_group[\"sig\"].values, deg_cohorts.loc[bin_group.index].values)\n",
    "    prec_dict[bin_val] = prec"
   ]
  },
  {
   "cell_type": "code",
   "execution_count": null,
   "id": "6be81995-a419-4785-a81d-bb54120b7d76",
   "metadata": {},
   "outputs": [],
   "source": [
    "mid = []\n",
    "precs = []\n",
    "for bin_val, bin_group in tab_gt.groupby('logFC_bin'):\n",
    "    mcc, prec, rec = get_array_metrics_numba(bin_group[\"sig\"].values, deg_cohorts.loc[bin_group.index].values)\n",
    "    mid.append(bin_val.mid)\n",
    "    precs.append(np.nanmedian(prec))\n",
    "    \n",
    "    print(bin_val)\n",
    "    print(\"Median prec:\", np.nanmedian(prec))\n",
    "    print(\"Genes:\",len(bin_group),\"| NaN:\", np.isnan(prec).sum())\n",
    "    plt.hist(prec, label=bin_val)\n",
    "    print(\"\\n\")\n",
    "    \n",
    "plt.legend()"
   ]
  },
  {
   "cell_type": "code",
   "execution_count": null,
   "id": "d2dfe99a-d2ee-489e-93f0-f773e3ccff39",
   "metadata": {},
   "outputs": [],
   "source": [
    "plt.figure(figsize=(10,6))\n",
    "plt.scatter(mid,precs)\n",
    "plt.xlabel(\"logFC (binned)\")\n",
    "plt.ylabel(\"Median precision\")"
   ]
  },
  {
   "cell_type": "markdown",
   "id": "3742155f-9fc9-4408-877d-8ec82cde9b2e",
   "metadata": {},
   "source": [
    "## Inflation"
   ]
  },
  {
   "cell_type": "code",
   "execution_count": null,
   "id": "7cdf6d6c-9de2-4bac-bf80-1f2c0ce18d69",
   "metadata": {},
   "outputs": [],
   "source": [
    "from misc import open_table, get_grid_size\n",
    "from process import gene_rep\n",
    "\n",
    "datapath = \"/storage/homefs/pd21v747/datanew\"\n",
    "\n",
    "def gene_reps_all_N(all_N,site,data,out,dea,FDR,logFC,param_set):\n",
    "    gene_reps = {N: None for N in all_N}\n",
    "    for N in all_N:\n",
    "        tab = open_table(f\"{datapath}/{site}/{data}/{data}_N{N}/all.FDR.{out}.{dea}.{param_set}\")\n",
    "        tablfc = open_table(f\"{datapath}/{site}/{data}/{data}_N{N}/all.logFC.{out}.{dea}.{param_set}\")\n",
    "        gene_reps[N] = gene_rep(tab, logFC_tab=tablfc, FDR=FDR, logFC=logFC, normalize=True)\n",
    "    return gene_reps\n",
    "\n",
    "\n",
    "def get_truth_logFC(param_set, n_cohorts):\n",
    "    \n",
    "    logFC_test = 0 if param_set == \"p1\" else 1\n",
    "    \n",
    "    truth_logFC = {data: {dea: {N: {\"RMSE\":[], \"logFC\":[], \"Error\": []} for N in all_N_sub} | {\"small_N_deg_logFC\":[],\"small_N_deg_logFC_truth\":[]} for dea in DEAs} for data in datasets if \"syn_hom\" not in data}\n",
    "\n",
    "    for data in truth_logFC:\n",
    "        \n",
    "        print(data)\n",
    "        \n",
    "        for dea in [\"deseq2\", \"edgerlrt\"]:\n",
    "            \n",
    "            path = datasets[data]['datapath'].split(f'/{data}.csv')[0]\n",
    "            f = f\"{path}/{data}.{dea}.lfc{logFC_test}.csv\"\n",
    "            truth_df=pd.read_csv(f, index_col=0, usecols=[\"Unnamed: 0\",\"logFC\"])\n",
    "            logFC_truth = truth_df[\"logFC\"]\n",
    "            truth_logFC[data][dea][\"truth\"] = logFC_truth\n",
    "            small_N_deg = []\n",
    "            \n",
    "            for N in all_N_sub:\n",
    "                \n",
    "                path_N = f\"{path}/{data}_N{N}\"\n",
    "                cohorts = sorted([f.path for f in os.scandir(path_N) if f.is_dir()])\n",
    "\n",
    "                for cohort in cohorts[:n_cohorts]:\n",
    "                    \n",
    "                    f = f\"{cohort}/tab.{out}.{dea}.{param_set}\"\n",
    "                    tab_cohort = open_table(f)\n",
    "\n",
    "                    logFC_cohort = tab_cohort[\"logFC\"]\n",
    "                    \n",
    "                    if cohort == cohorts[0]: \n",
    "                        common = logFC_cohort.index.intersection(logFC_truth.index)\n",
    "                    tab_cohort = tab_cohort.loc[common]\n",
    "\n",
    "                    if N == all_N_sub[0]:\n",
    "                        DEG = tab_cohort[(tab_cohort[\"FDR\"]<FDR) & (tab_cohort[\"logFC\"].abs()>logFC)]\n",
    "                        truth_logFC[data][dea][\"small_N_deg_logFC\"] += DEG[\"logFC\"].values.tolist() # faster than np.concatenate\n",
    "                        small_N_deg = DEG.index\n",
    "\n",
    "                    logFC_cohort = tab_cohort[\"logFC\"]\n",
    "                    rmse = np.sqrt(np.mean((logFC_truth.loc[common].values.flatten()-logFC_cohort.values)**2))\n",
    "                    truth_logFC[data][dea][N][\"RMSE\"].append(rmse)\n",
    "                    truth_logFC[data][dea][N][\"Error\"] += (logFC_truth.loc[common].values.flatten()-logFC_cohort.values).tolist()\n",
    "                    truth_logFC[data][dea][N][\"logFC\"] += logFC_cohort.tolist()\n",
    "\n",
    "            truth_logFC[data][dea][\"small_N_deg_logFC_truth\"] += logFC_truth.loc[small_N_deg].values.tolist()\n",
    "            \n",
    "    return truth_logFC\n",
    "\n",
    "# don't forget: deseq2 does not show logCPM but counts"
   ]
  },
  {
   "cell_type": "code",
   "execution_count": null,
   "id": "30759f5f-4d26-4ed8-a2e8-1d981360b5a8",
   "metadata": {},
   "outputs": [],
   "source": [
    "all_N_sub = [3,9,15]\n",
    "FDR = 0.01\n",
    "logFC = 1\n",
    "out = \"none\" # outlier method\n",
    "n_cohorts = 10\n",
    "overwrite = False\n",
    "paramset = \"p1\"\n",
    "\n",
    "truth_logFC = get_truth_logFC(paramset, n_cohorts)"
   ]
  },
  {
   "cell_type": "code",
   "execution_count": null,
   "id": "901fcefa-8b0e-4d2f-b430-a8a501751813",
   "metadata": {},
   "outputs": [],
   "source": [
    "print(truth_logFC[\"THCA\"][\"edgerlrt\"].keys())\n",
    "\n",
    "len(truth_logFC[\"THCA\"][\"edgerlrt\"][\"small_N_deg_logFC\"])\n",
    "len(truth_logFC[\"THCA\"][\"edgerlrt\"][\"small_N_deg_logFC_truth\"])"
   ]
  },
  {
   "cell_type": "markdown",
   "id": "5de155c0-d591-47c6-b886-a95f1e149e19",
   "metadata": {},
   "source": [
    "# Unpaired designs"
   ]
  },
  {
   "cell_type": "code",
   "execution_count": null,
   "id": "cc076a5d-de72-49df-b441-83545bdfabac",
   "metadata": {},
   "outputs": [],
   "source": [
    "import warnings\n",
    "warnings.simplefilter(action='ignore', category=FutureWarning)\n",
    "\n",
    "combined_td2 = pd.read_csv(\"../data/multi/combined_td.p2.csv\", index_col=0) # Paired formal lfc 1\n",
    "combined_td3 = pd.read_csv(\"../data/multi/combined_td.p3.csv\", index_col=0) # Unpaired formal lfc 1\n",
    "\n",
    "combined_td3[\"DEA\"] = combined_td3[\"DEA\"].str.replace(\"edgerqlf\",\"edgeR QLF\")"
   ]
  },
  {
   "cell_type": "code",
   "execution_count": null,
   "id": "46811172-d7bf-46d6-b44e-35caa05119a7",
   "metadata": {},
   "outputs": [],
   "source": [
    "combined_td2 = combined_td2[(combined_td2[\"N\"].isin([3,7,15]))&(combined_td2[\"FDR\"]==0.05)]\n",
    "\n",
    "len(combined_td2),len(combined_td3)"
   ]
  },
  {
   "cell_type": "code",
   "execution_count": null,
   "id": "eb8f8d92-b04c-4773-b5e0-8f2f8c32423a",
   "metadata": {},
   "outputs": [],
   "source": [
    "sns.set_style(\"whitegrid\")\n",
    "\n",
    "combined_td2[\"Design\"] = \"Paired\"\n",
    "combined_td3[\"Design\"] = \"Unpaired\"\n",
    "\n",
    "df = pd.concat([combined_td2, combined_td3])\n",
    "\n",
    "met = \"median_prec\"\n",
    "\n",
    "fig, ax = plt.subplots(4,3,figsize=(14,14), sharex=True, sharey=\"row\")\n",
    "\n",
    "methods = [\"edgeR QLF\", \"edgeR LRT\", \"DESeq2\"]\n",
    "pretty_metric = {\"median_prec\": \"Precision\",\n",
    "                \"median_deg\": \"#DEGs\",\n",
    "                \"median_rec\": \"Recall\",\n",
    "                \"median_mcc\": \"MCC\"}\n",
    "\n",
    "for i, met in enumerate([\"median_prec\",\"median_rec\",\"median_mcc\",\"median_deg\"]):\n",
    "    for j, method in enumerate(methods):\n",
    "        df_sub = df[df[\"DEA\"]==method]\n",
    "        sns.boxplot(data=df_sub, x=\"N\", y=met,hue=\"Design\", ax=ax[i][j])\n",
    "        if not (i == j == 0): ax[i][j].legend().remove()\n",
    "        sns.stripplot(data=df_sub, x=\"N\", y=met,hue=\"Design\",dodge=True, color=\"black\", ax=ax[i][j], legend=False)\n",
    "        ax[i][j].set(ylabel=pretty_metric[met])\n",
    "        if i < 3: ax[i][j].set(xlabel=\"\")\n",
    "        if j > 0: ax[i][j].set(ylabel=\"\")\n",
    "        if i == 0: ax[i][j].set_title(method + \"|lfc|>1\")\n",
    "    \n",
    "fig.tight_layout()\n",
    "figpath = f\"../figures/paired_vs_unpaired_lfc1.png\"\n",
    "fig.savefig(figpath)"
   ]
  },
  {
   "cell_type": "markdown",
   "id": "4ac34703-1264-48d0-96fe-4c7ddbd3e544",
   "metadata": {},
   "source": [
    "## Test cases"
   ]
  },
  {
   "cell_type": "code",
   "execution_count": null,
   "id": "a6fb7295-5ac7-493f-8c3a-ce245ea89763",
   "metadata": {},
   "outputs": [],
   "source": [
    "test = \"deseq2\"\n",
    "site = \"liver\"\n",
    "data = \"LIHC\"\n",
    "N = 3\n",
    "cohort = 1\n",
    "\n",
    "# Results from sent batch jobs\n",
    "f3 = f\"/storage/homefs/pd21v747/RNASeqReplicability/data/{site}/{data}/{data}_N{N}/{data}_N{N}_{cohort:04}/tab.none.{test}.p3.feather\" # unpaired\n",
    "f2 = f\"/storage/homefs/pd21v747/RNASeqReplicability/data/{site}/{data}/{data}_N{N}/{data}_N{N}_{cohort:04}/tab.none.{test}.p2.feather\" # paired\n",
    "tab_unpaired = open_table(f3)\n",
    "tab_paired = open_table(f2)\n",
    "\n",
    "# Unpaired and paired results should yield different results\n",
    "print((tab_paired[\"logFC\"]==tab_unpaired.loc[tab_paired.index][\"logFC\"]).sum(), len(tab_paired))\n",
    "(tab_paired[\"FDR\"]==tab_unpaired.loc[tab_paired.index][\"FDR\"]).sum(), len(tab_paired)"
   ]
  },
  {
   "cell_type": "code",
   "execution_count": null,
   "id": "a227f2c4-443b-43c4-af82-7ba0fbf03786",
   "metadata": {},
   "outputs": [],
   "source": [
    "# Re-run DEA here\n",
    "\n",
    "from DEA import run_dea\n",
    "import json\n",
    "\n",
    "config = f\"/storage/homefs/pd21v747/RNASeqReplicability/data/{site}/{data}/{data}_N{N}/{data}_N{N}_{cohort:04}/config.json\"\n",
    "\n",
    "with open(config, \"r\") as f:\n",
    "    j = json.load(f)    \n",
    "    samples_i = j[\"samples_i\"]\n",
    "    \n",
    "df_cohort = pd.read_csv(f\"/storage/homefs/pd21v747/RNASeqReplicability/data/{site}/{data}/{data}.csv\", index_col=0)\n",
    "df_cohort = df_cohort[samples_i]\n",
    "\n",
    "outfile = \"../data/test/unpaired.csv\"\n",
    "kwargs = {\"filter_expr\": False, \"cols_to_keep\": [\"logFC\",\"logCPM\",\"FDR\"], \"lfc\": 1, \"design\": \"unpaired\"}\n",
    "if test == \"deseq2\": kwargs = {\"cols_to_keep\": [\"logFC\",\"logCPM\",\"FDR\"],\"lfc\": 1, \"design\": \"unpaired\"}\n",
    "run_dea(df_cohort, outfile, method=test, overwrite=True, **kwargs)\n",
    "\n",
    "outfile_paired = \"../data/test/paired.csv\"\n",
    "kwargs = {\"filter_expr\": False, \"cols_to_keep\": [\"logFC\",\"logCPM\",\"FDR\"], \"lfc\": 1, \"design\": \"paired\"}\n",
    "if test == \"deseq2\": kwargs = {\"cols_to_keep\": [\"logFC\",\"logCPM\",\"FDR\"],\"lfc\": 1, \"design\": \"paired\"}\n",
    "run_dea(df_cohort, outfile_paired, method=test, overwrite=True, **kwargs)"
   ]
  },
  {
   "cell_type": "code",
   "execution_count": null,
   "id": "34bc7fcd-42eb-486c-835c-c4a53f2948fa",
   "metadata": {},
   "outputs": [],
   "source": [
    "df_unpaired = pd.read_csv(outfile, index_col=0)\n",
    "df_paired = pd.read_csv(outfile_paired, index_col=0)\n",
    "(df_paired[\"FDR\"] == df_unpaired.loc[df_paired.index][\"FDR\"]).sum(), len(df_paired)"
   ]
  },
  {
   "cell_type": "code",
   "execution_count": null,
   "id": "3b95bd25-612d-4798-b34d-4396e3c41acd",
   "metadata": {},
   "outputs": [],
   "source": [
    "if test != \"deseq2\":\n",
    "    assert np.allclose(df_paired[\"FDR\"], tab_paired.loc[df_paired.index][\"FDR\"])\n",
    "    assert np.allclose(df_unpaired[\"FDR\"], tab_unpaired.loc[df_unpaired.index][\"FDR\"])\n",
    "else:\n",
    "    ix = df_paired[~df_paired[\"FDR\"].isna()].index\n",
    "    assert np.allclose(df_paired.loc[ix, \"FDR\"], tab_paired.loc[ix][\"FDR\"])\n",
    "    ix = df_unpaired[~df_unpaired[\"FDR\"].isna()].index\n",
    "    assert np.allclose(df_unpaired.loc[ix, \"FDR\"], tab_unpaired.loc[ix][\"FDR\"])"
   ]
  },
  {
   "cell_type": "code",
   "execution_count": null,
   "id": "8ebc0cfc-6f0e-4695-9f57-f8006b6fc88e",
   "metadata": {},
   "outputs": [],
   "source": [
    "fdr = 0.05\n",
    "print(len(df_paired[df_paired[\"FDR\"]<fdr]))\n",
    "print(len(tab_paired[tab_paired[\"FDR\"]<fdr]))\n",
    "print(len(df_unpaired[df_unpaired[\"FDR\"]<fdr]))\n",
    "print(len(tab_unpaired[tab_unpaired[\"FDR\"]<fdr]))"
   ]
  },
  {
   "cell_type": "markdown",
   "id": "157e6a97-c528-4093-a17e-315aa34aad42",
   "metadata": {},
   "source": [
    "# Non-TCGA Data\n",
    "\n",
    "**Tuberculosis**\n",
    "\n",
    "https://www.ncbi.nlm.nih.gov/pmc/articles/PMC6008327/\n",
    "\n",
    "https://www.ncbi.nlm.nih.gov/pmc/articles/PMC3492754/\n",
    "\n",
    "https://www.ncbi.nlm.nih.gov/geo/query/acc.cgi?acc=GSE107995\n",
    "\n",
    "- Compare TB vs LTBI/control\n",
    "- GSE107991 Berry London: test set (n=54) \n",
    "- GSE107992 Berry South Africa: valiadtion set (n=51)\n",
    "- Leicester: active TB (n=53), recent close contacts (n=108)\n",
    "-- Close contacts: IGRA negative (n=50), IGRA positive (n=49), TB active (n=9)\n",
    "- LTBI outliers: cluster with active TB"
   ]
  },
  {
   "cell_type": "code",
   "execution_count": null,
   "id": "1ed2da25-2400-4592-98ab-94bedab44e69",
   "metadata": {},
   "outputs": [],
   "source": [
    "meta = pd.read_csv(\"../data/GSETB/GSE107995_series_matrix.tsv\", sep=\"\\t\", on_bad_lines='warn', header=None, skiprows=27)\n",
    "meta = meta.set_index(0).T\n",
    "meta.columns = [c[1:] for c in meta.columns]\n",
    "meta = meta.set_index(\"Sample_title\")"
   ]
  },
  {
   "cell_type": "code",
   "execution_count": null,
   "id": "0d437372-c2ef-4a37-bc40-1167d4cb71df",
   "metadata": {},
   "outputs": [],
   "source": [
    "covariants = meta[\"Sample_characteristics_ch1\"]\n",
    "covariants.columns = covariants.iloc[-1,:].str.split(\":\").str[0].str.strip()\n",
    "covariants.columns[0]\n",
    "covariants.columns.name = \"\"\n",
    "covariants.index.name = \"Sample\"\n",
    "covariants = covariants.map(lambda x: x.split(\":\")[1].strip() if isinstance(x, str) else x)\n",
    "covariants[\"Series\"] = covariants.index.str.split(\"_Sample\").str[0]\n",
    "covariants.reset_index(inplace=True)\n",
    "covariants.head()"
   ]
  },
  {
   "cell_type": "code",
   "execution_count": null,
   "id": "5ac3845b-2ac6-4075-9f14-6e4be79db623",
   "metadata": {},
   "outputs": [],
   "source": [
    "covariants[\"Series\"].value_counts()"
   ]
  },
  {
   "cell_type": "code",
   "execution_count": null,
   "id": "ba69acf1-8398-4288-9fc1-d7f272cd26fb",
   "metadata": {},
   "outputs": [],
   "source": [
    "covariants.groupby(\"Series\")[\"group\"].value_counts()"
   ]
  },
  {
   "cell_type": "code",
   "execution_count": null,
   "id": "2cfc405a-60fa-4cd6-9c2a-dedf18ce17df",
   "metadata": {},
   "outputs": [],
   "source": [
    "counts = pd.read_csv(\"../data/GSETB/GSE107994_Raw_counts_Leicester_with_progressor_longitudinal.csv\", index_col=0)\n",
    "counts = counts[counts[\"Gene_biotype\"] == \"protein_coding\"]\n",
    "counts = counts.set_index(['Gene_name', 'Gene_biotype'], append=True)\n",
    "\n",
    "cov = covariants[covariants['Series'] == 'Leicester_with_progressor_longitudinal']\n",
    "\n",
    "assert (counts.columns.values == cov[\"Sample\"].values).all()\n",
    "\n",
    "multi_columns = pd.MultiIndex.from_frame(cov)\n",
    "counts.columns = multi_columns\n",
    "counts.head()"
   ]
  },
  {
   "cell_type": "code",
   "execution_count": null,
   "id": "93234ffa-8006-4253-bf4f-28ece33fd6cb",
   "metadata": {},
   "outputs": [],
   "source": [
    "counts.columns.get_level_values('group').value_counts()\n",
    "counts.columns.get_level_values('smear_result').value_counts()\n",
    "counts.columns.get_level_values('outlier').value_counts()"
   ]
  },
  {
   "cell_type": "code",
   "execution_count": null,
   "id": "eb810906-89be-477e-a803-c5f9970a8c77",
   "metadata": {},
   "outputs": [],
   "source": [
    "control = counts.iloc[:,counts.columns.get_level_values(\"group\")==\"Control\"]\n",
    "active_TB = counts.iloc[:,counts.columns.get_level_values(\"group\")==\"Active_TB\"]\n",
    "N = min(len(control.columns), len(active_TB.columns))\n",
    "final =pd.concat([control.iloc[:,:N], active_TB.iloc[:,:N]], axis=1)"
   ]
  },
  {
   "cell_type": "code",
   "execution_count": null,
   "id": "7365e30e-4cf6-4733-984f-4997cfdc3638",
   "metadata": {},
   "outputs": [],
   "source": [
    "final.columns.get_level_values('group').value_counts()\n",
    "final.columns.get_level_values('smear_result').value_counts()\n",
    "#final.columns.get_level_values('outlier').value_counts()"
   ]
  },
  {
   "cell_type": "code",
   "execution_count": null,
   "id": "cc244dc6-28d3-4012-8fc8-87e7e1ba2a7c",
   "metadata": {},
   "outputs": [],
   "source": [
    "final.index = final.index.get_level_values(\"Genes\")\n",
    "final.columns = final.columns.get_level_values(\"Sample\").astype(str) + \"_\" + final.columns.get_level_values(\"group\").astype(str)\n",
    "final.to_csv(\"../data/GSETB/LWPL/LWPL.csv\")\n",
    "final.head()"
   ]
  },
  {
   "cell_type": "code",
   "execution_count": null,
   "id": "6f6687c5-d636-4632-8e7c-a844cadf9a18",
   "metadata": {},
   "outputs": [],
   "source": [
    "deg = pd.read_csv(\"../data/GSETB/LWPL/LWPL.edgerlrt.lfc0.csv\", index_col=0)\n",
    "deg[deg[\"FDR\"]<0.05]"
   ]
  },
  {
   "cell_type": "markdown",
   "id": "21c3c45c-4f5c-4451-b437-1aa3c657a1a9",
   "metadata": {},
   "source": [
    "## Results"
   ]
  },
  {
   "cell_type": "code",
   "execution_count": null,
   "id": "649d9223-2f89-4089-a0b6-cbefc945ca90",
   "metadata": {},
   "outputs": [],
   "source": [
    "combined_td3 = pd.read_csv(\"../data/multi/combined_td.p3.csv\", index_col=0) # Unpaired formal lfc 1\n",
    "combined_td3[\"DEA\"] = combined_td3[\"DEA\"].str.replace(\"edgerqlf\",\"edgeR QLF\")\n"
   ]
  },
  {
   "cell_type": "code",
   "execution_count": null,
   "id": "de7fd6d3-799c-4fce-9185-bef1d0d1f615",
   "metadata": {},
   "outputs": [],
   "source": [
    "d = combined_td3[combined_td3[\"Data\"]==\"LWPL\"]\n",
    "d = d[(d[\"FDR\"]==0.05)&(d[\"logFC\"]==1)]"
   ]
  },
  {
   "cell_type": "code",
   "execution_count": null,
   "id": "09d9cb8b-58fb-4cbb-8ad6-2a746c171f98",
   "metadata": {},
   "outputs": [],
   "source": [
    "truth = pd.read_csv(\"../data/GSETB/LWPL/truth.fdr0.05.post_lfc1.lfc1.csv\", index_col=0)"
   ]
  },
  {
   "cell_type": "code",
   "execution_count": null,
   "id": "58ebe626-3a16-4fc2-a1b4-685e6ab430a6",
   "metadata": {},
   "outputs": [],
   "source": [
    "sns.set_style(\"whitegrid\")\n",
    "\n",
    "fig, ax = plt.subplots(2,2,figsize=(10,10))\n",
    "ax=ax.flatten()\n",
    "for i, met in enumerate([\"median_prec\",\"median_rec\",\"median_mcc\",\"median_deg\"]):\n",
    "    sns.barplot(data=d, x=\"N\",y=met, hue=\"DEA\", ax=ax[i])\n",
    "    if i < 3: ax[i].legend().remove()\n",
    "\n",
    "fig.suptitle(f\"Control vs active TB, |lfc|>1 (formal), 5% FDR, 100 cohorts, truth DEGs: {len(truth)}\")\n",
    "fig.tight_layout()\n",
    "figpath = f\"../figures/LWPL_metrics.png\"\n",
    "fig.savefig(figpath)"
   ]
  },
  {
   "cell_type": "code",
   "execution_count": null,
   "id": "af3a1109-9e45-48f0-87ec-6cce057f07a4",
   "metadata": {},
   "outputs": [],
   "source": [
    "import sys, importlib\n",
    "importlib.reload(sys.modules[\"misc\"])\n",
    "importlib.reload(sys.modules[\"DEA\"])\n",
    "\n",
    "from DEA import run_dea"
   ]
  }
 ],
 "metadata": {
  "kernelspec": {
   "display_name": "Python 3 (ipykernel)",
   "language": "python",
   "name": "python3"
  },
  "language_info": {
   "codemirror_mode": {
    "name": "ipython",
    "version": 3
   },
   "file_extension": ".py",
   "mimetype": "text/x-python",
   "name": "python",
   "nbconvert_exporter": "python",
   "pygments_lexer": "ipython3",
   "version": "3.9.7"
  }
 },
 "nbformat": 4,
 "nbformat_minor": 5
}
