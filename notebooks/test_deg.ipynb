{
 "cells": [
  {
   "cell_type": "code",
   "execution_count": null,
   "id": "04be8627-5c9b-4248-95ca-02a1f9b15537",
   "metadata": {},
   "outputs": [],
   "source": [
    "import requests\n",
    "import json\n",
    "import re\n",
    "import io\n",
    "import os\n",
    "import sys\n",
    "import pandas as pd\n",
    "import numpy as np\n",
    "import matplotlib.pyplot as plt\n",
    "import seaborn as sns; sns.set()\n",
    "from pathlib import Path\n",
    "\n",
    "datapath = Path(\"../data\")\n",
    "\n",
    "pd.set_option('display.max_rows', 50)\n",
    "\n",
    "modpath = Path(\"../scripts\")\n",
    "sys.path.append(os.path.abspath(modpath))"
   ]
  },
  {
   "cell_type": "code",
   "execution_count": null,
   "id": "647264e3-a948-4d41-ad1e-3c0312b64d48",
   "metadata": {},
   "outputs": [],
   "source": [
    "def make_volcano(tab, lfc=0, FDR=0.05):\n",
    "    sig = tab[tab[\"FDR\"]<FDR]\n",
    "    sns.scatterplot(x=tab[\"logFC\"],y=-np.log10(tab[\"FDR\"]), edgecolor=None, color=\"grey\")\n",
    "    sns.scatterplot(x=sig[\"logFC\"],y=-np.log10(sig[\"FDR\"]), edgecolor=None)\n",
    "    plt.ylabel(\"-log10 FDR\")\n",
    "    plt.axhline(-np.log10(FDR),ls=\"--\",color=\"red\")\n",
    "    if lfc > 0:\n",
    "        plt.axvline(lfc,ls=\"--\",color=\"red\")\n",
    "        plt.axvline(-lfc,ls=\"--\",color=\"red\")\n",
    "    plt.title(f\"DEGs: {len(sig)}\")"
   ]
  },
  {
   "cell_type": "code",
   "execution_count": null,
   "id": "3dec1846-b71f-48f3-9f64-38cbcaae8eba",
   "metadata": {},
   "outputs": [],
   "source": [
    "metafile = None\n",
    "\n",
    "#dffile = \"../data/GSETB2/LNPL/LNPL.csv\" # Control vs Latent\n",
    "#dffile = \"../data/GSETB3/LTAT/LTAT.csv\" # Latent vs Active\n",
    "#dffile = \"../data/GSETB/LWPL/LWPL.csv\" # Control vs Active\n",
    "\n",
    "#dffile = \"../data/breast_lumab/LUMAB/LUMAB.csv\" # Luminal A vs Luminal B\n",
    "\n",
    "dffile = \"../data/GSEPN/GIPF/GIPF.csv\" # Control vs IPF\n",
    "metafile = \"../data/GSEPN/GIPF/GIPF.meta.csv\"\n",
    "\n",
    "df = pd.read_csv(dffile, index_col=0)\n",
    "display(df.head())\n",
    "print(df.shape)\n",
    "\n",
    "if metafile:\n",
    "    meta = pd.read_csv(metafile, index_col=0)\n",
    "    display(meta.head())"
   ]
  },
  {
   "cell_type": "code",
   "execution_count": null,
   "id": "d027a5df-7875-47a2-9e55-ec4d8e9e9be9",
   "metadata": {},
   "outputs": [],
   "source": [
    "from DEA import run_dea\n",
    "\n",
    "design = metafile if metafile else \"unpaired\"\n",
    "print(\"Design:\", design)\n",
    "lfc = 0\n",
    "FDR = 0.05\n",
    "\n",
    "edgerqlf_kwargs = {\"filter_expr\": True, \"cols_to_keep\": [\"logFC\",\"logCPM\",\"FDR\"], \"lfc\": lfc, \"design\": design,\n",
    "                   \"check_gof\": False, \"verbose\": False}\n",
    "edgerlrt_kwargs = {\"filter_expr\": True, \"cols_to_keep\": [\"logFC\",\"logCPM\",\"FDR\"], \"lfc\": lfc, \"design\": design,\n",
    "                   \"check_gof\": False, \"verbose\": False}\n",
    "deseq2_kwargs = {\"cols_to_keep\": [\"logFC\",\"logCPM\",\"FDR\"],\"lfc\": lfc, \"design\": design}\n",
    "\n",
    "outfile_dea_truth = \"../data/test/truth.qlf.csv\"\n",
    "run_dea(df, outfile_dea_truth, \"edgerqlf\", True, **edgerqlf_kwargs)\n",
    "\n",
    "# outfile_dea_truth = \"../data/test/truth.lrt.csv\"\n",
    "# run_dea(df, outfile_dea_truth, \"edgerlrt\", True, **edgerlrt_kwargs)\n",
    "\n",
    "#outfile_dea_truth = \"../data/test/truth.wald.csv\"\n",
    "#run_dea(df, outfile_dea_truth, \"deseq2\", True, **deseq2_kwargs)"
   ]
  },
  {
   "cell_type": "code",
   "execution_count": null,
   "id": "02b7d228-f77b-498a-bd0b-9f2eae7f0bd7",
   "metadata": {},
   "outputs": [],
   "source": [
    "tab_truth = pd.read_csv(outfile_dea_truth, index_col=0)\n",
    "\n",
    "make_volcano(tab_truth, lfc=lfc, FDR=FDR)"
   ]
  },
  {
   "cell_type": "markdown",
   "id": "5a3206ae-4507-4b34-8894-41eaea7b55ef",
   "metadata": {},
   "source": [
    "## Subsamples"
   ]
  },
  {
   "cell_type": "code",
   "execution_count": null,
   "id": "1e5c1764-b3e1-41e8-9914-5c2da30bd1b1",
   "metadata": {},
   "outputs": [],
   "source": [
    "from misc import paired_replicate_sampler\n",
    "\n",
    "N = 12\n",
    "\n",
    "df_sub = paired_replicate_sampler(df, N)[0]\n",
    "print(df_sub.shape)\n",
    "\n",
    "if design not in [\"paired\", \"unpaired\"]:\n",
    "    meta_sub = meta.loc[df_sub.columns]\n",
    "    design_sub = \"../data/test/design.csv\"\n",
    "    meta_sub.to_csv(design_sub)\n",
    "else:\n",
    "    design_sub = design\n",
    "\n",
    "print(design_sub)"
   ]
  },
  {
   "cell_type": "code",
   "execution_count": null,
   "id": "388427d2-231c-4581-9789-e3b28b050717",
   "metadata": {},
   "outputs": [],
   "source": [
    "from DEA import run_dea\n",
    "\n",
    "\n",
    "edgerqlf_kwargs = {\"filter_expr\": True, \"cols_to_keep\": [\"logFC\",\"logCPM\",\"FDR\"], \"lfc\": lfc, \"design\": design_sub,\n",
    "                   \"check_gof\": False, \"verbose\": False}\n",
    "edgerlrt_kwargs = {\"filter_expr\": True, \"cols_to_keep\": [\"logFC\",\"logCPM\",\"FDR\"], \"lfc\": lfc, \"design\": design_sub,\n",
    "                   \"check_gof\": False, \"verbose\": False}\n",
    "deseq2_kwargs = {\"cols_to_keep\": [\"logFC\",\"logCPM\",\"FDR\"],\"lfc\": lfc, \"design\": design_sub}\n",
    "\n",
    "outfile_dea = \"../data/test/test.qlf.csv\"\n",
    "run_dea(df_sub, outfile_dea, \"edgerqlf\", True, **edgerqlf_kwargs)\n",
    "\n",
    "# outfile_dea = \"../data/test/test.lrt.csv\"\n",
    "# run_dea(df_sub, outfile_dea, \"edgerlrt\", True, **edgerlrt_kwargs)\n",
    "\n",
    "# outfile_dea = \"../data/test/test.wald.csv\"\n",
    "# run_dea(df_sub, outfile_dea, \"deseq2\", True, **deseq2_kwargs)"
   ]
  },
  {
   "cell_type": "code",
   "execution_count": null,
   "id": "5e015494-0792-4853-b394-9520e6642eff",
   "metadata": {},
   "outputs": [],
   "source": [
    "tab = pd.read_csv(outfile_dea, index_col=0)\n",
    "tab.head()"
   ]
  },
  {
   "cell_type": "code",
   "execution_count": null,
   "id": "8d99d801-400f-46e1-ba0b-de0abc4eda45",
   "metadata": {},
   "outputs": [],
   "source": [
    "make_volcano(tab, lfc=lfc, FDR=FDR)"
   ]
  },
  {
   "cell_type": "code",
   "execution_count": null,
   "id": "98cfa259-5edb-4b79-bb98-ae2d3c3c8b68",
   "metadata": {},
   "outputs": [],
   "source": [
    "from process import sklearn_metrics\n",
    "\n",
    "common = tab_truth.index.intersection(tab.index)\n",
    "true = tab_truth.loc[common][\"FDR\"]<FDR\n",
    "pred = tab.loc[common][\"FDR\"]<FDR\n",
    "\n",
    "mcc, prec, rec = sklearn_metrics(true, pred)\n",
    "\n",
    "TP = true & pred\n",
    "FP = ~true & pred\n",
    "TN = ~true & ~pred\n",
    "FN = true & ~pred\n",
    "assert TP.sum() + FP.sum() + TN.sum() + FN.sum() == len(common)\n",
    "\n",
    "print(f\"MCC: {mcc:>10.2f}\")\n",
    "print(f\"Precision: {prec:.2f}\")\n",
    "print(f\"Recall: {rec:>7.2f}\")\n",
    "print(\"===============\")\n",
    "print(f\"True: {true.sum():>9}\")\n",
    "print(f\"Pred: {pred.sum():>9}\")\n",
    "print(\"===============\")\n",
    "print(f\"TP: {TP.sum():>11}\")\n",
    "print(f\"FP: {FP.sum():>11}\")\n",
    "print(f\"TN: {TN.sum():>11}\")\n",
    "print(f\"FN: {FN.sum():>11}\")"
   ]
  },
  {
   "cell_type": "code",
   "execution_count": null,
   "id": "0c178d43-1234-4948-adeb-0d8e8934feda",
   "metadata": {},
   "outputs": [],
   "source": []
  }
 ],
 "metadata": {
  "kernelspec": {
   "display_name": "Python 3 (ipykernel)",
   "language": "python",
   "name": "python3"
  },
  "language_info": {
   "codemirror_mode": {
    "name": "ipython",
    "version": 3
   },
   "file_extension": ".py",
   "mimetype": "text/x-python",
   "name": "python",
   "nbconvert_exporter": "python",
   "pygments_lexer": "ipython3",
   "version": "3.12.5"
  }
 },
 "nbformat": 4,
 "nbformat_minor": 5
}
